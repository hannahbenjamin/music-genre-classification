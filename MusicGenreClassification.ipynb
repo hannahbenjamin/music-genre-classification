{
  "cells": [
    {
      "cell_type": "code",
      "execution_count": 3,
      "metadata": {
        "colab": {
          "base_uri": "https://localhost:8080/"
        },
        "id": "WYfOKsoGqGtn",
        "outputId": "fdce08dc-d60a-47e7-e730-7e7759369edb"
      },
      "outputs": [
        {
          "output_type": "stream",
          "name": "stdout",
          "text": [
            "Requirement already satisfied: librosa in /usr/local/lib/python3.10/dist-packages (0.10.2.post1)\n",
            "Requirement already satisfied: audioread>=2.1.9 in /usr/local/lib/python3.10/dist-packages (from librosa) (3.0.1)\n",
            "Requirement already satisfied: numpy!=1.22.0,!=1.22.1,!=1.22.2,>=1.20.3 in /usr/local/lib/python3.10/dist-packages (from librosa) (1.26.4)\n",
            "Requirement already satisfied: scipy>=1.2.0 in /usr/local/lib/python3.10/dist-packages (from librosa) (1.13.1)\n",
            "Requirement already satisfied: scikit-learn>=0.20.0 in /usr/local/lib/python3.10/dist-packages (from librosa) (1.3.2)\n",
            "Requirement already satisfied: joblib>=0.14 in /usr/local/lib/python3.10/dist-packages (from librosa) (1.4.2)\n",
            "Requirement already satisfied: decorator>=4.3.0 in /usr/local/lib/python3.10/dist-packages (from librosa) (4.4.2)\n",
            "Requirement already satisfied: numba>=0.51.0 in /usr/local/lib/python3.10/dist-packages (from librosa) (0.60.0)\n",
            "Requirement already satisfied: soundfile>=0.12.1 in /usr/local/lib/python3.10/dist-packages (from librosa) (0.12.1)\n",
            "Requirement already satisfied: pooch>=1.1 in /usr/local/lib/python3.10/dist-packages (from librosa) (1.8.2)\n",
            "Requirement already satisfied: soxr>=0.3.2 in /usr/local/lib/python3.10/dist-packages (from librosa) (0.4.0)\n",
            "Requirement already satisfied: typing-extensions>=4.1.1 in /usr/local/lib/python3.10/dist-packages (from librosa) (4.12.2)\n",
            "Requirement already satisfied: lazy-loader>=0.1 in /usr/local/lib/python3.10/dist-packages (from librosa) (0.4)\n",
            "Requirement already satisfied: msgpack>=1.0 in /usr/local/lib/python3.10/dist-packages (from librosa) (1.0.8)\n",
            "Requirement already satisfied: packaging in /usr/local/lib/python3.10/dist-packages (from lazy-loader>=0.1->librosa) (24.1)\n",
            "Requirement already satisfied: llvmlite<0.44,>=0.43.0dev0 in /usr/local/lib/python3.10/dist-packages (from numba>=0.51.0->librosa) (0.43.0)\n",
            "Requirement already satisfied: platformdirs>=2.5.0 in /usr/local/lib/python3.10/dist-packages (from pooch>=1.1->librosa) (4.2.2)\n",
            "Requirement already satisfied: requests>=2.19.0 in /usr/local/lib/python3.10/dist-packages (from pooch>=1.1->librosa) (2.32.3)\n",
            "Requirement already satisfied: threadpoolctl>=2.0.0 in /usr/local/lib/python3.10/dist-packages (from scikit-learn>=0.20.0->librosa) (3.5.0)\n",
            "Requirement already satisfied: cffi>=1.0 in /usr/local/lib/python3.10/dist-packages (from soundfile>=0.12.1->librosa) (1.17.0)\n",
            "Requirement already satisfied: pycparser in /usr/local/lib/python3.10/dist-packages (from cffi>=1.0->soundfile>=0.12.1->librosa) (2.22)\n",
            "Requirement already satisfied: charset-normalizer<4,>=2 in /usr/local/lib/python3.10/dist-packages (from requests>=2.19.0->pooch>=1.1->librosa) (3.3.2)\n",
            "Requirement already satisfied: idna<4,>=2.5 in /usr/local/lib/python3.10/dist-packages (from requests>=2.19.0->pooch>=1.1->librosa) (3.7)\n",
            "Requirement already satisfied: urllib3<3,>=1.21.1 in /usr/local/lib/python3.10/dist-packages (from requests>=2.19.0->pooch>=1.1->librosa) (2.0.7)\n",
            "Requirement already satisfied: certifi>=2017.4.17 in /usr/local/lib/python3.10/dist-packages (from requests>=2.19.0->pooch>=1.1->librosa) (2024.7.4)\n",
            "Requirement already satisfied: numpy in /usr/local/lib/python3.10/dist-packages (1.26.4)\n",
            "Requirement already satisfied: pandas in /usr/local/lib/python3.10/dist-packages (2.1.4)\n",
            "Requirement already satisfied: numpy<2,>=1.22.4 in /usr/local/lib/python3.10/dist-packages (from pandas) (1.26.4)\n",
            "Requirement already satisfied: python-dateutil>=2.8.2 in /usr/local/lib/python3.10/dist-packages (from pandas) (2.8.2)\n",
            "Requirement already satisfied: pytz>=2020.1 in /usr/local/lib/python3.10/dist-packages (from pandas) (2024.1)\n",
            "Requirement already satisfied: tzdata>=2022.1 in /usr/local/lib/python3.10/dist-packages (from pandas) (2024.1)\n",
            "Requirement already satisfied: six>=1.5 in /usr/local/lib/python3.10/dist-packages (from python-dateutil>=2.8.2->pandas) (1.16.0)\n",
            "Requirement already satisfied: tqdm in /usr/local/lib/python3.10/dist-packages (4.66.5)\n",
            "Collecting pydub\n",
            "  Downloading pydub-0.25.1-py2.py3-none-any.whl.metadata (1.4 kB)\n",
            "Downloading pydub-0.25.1-py2.py3-none-any.whl (32 kB)\n",
            "Installing collected packages: pydub\n",
            "Successfully installed pydub-0.25.1\n",
            "Reading package lists... Done\n",
            "Building dependency tree... Done\n",
            "Reading state information... Done\n",
            "ffmpeg is already the newest version (7:4.4.2-0ubuntu0.22.04.1).\n",
            "0 upgraded, 0 newly installed, 0 to remove and 45 not upgraded.\n",
            "Collecting gradio\n",
            "  Downloading gradio-4.41.0-py3-none-any.whl.metadata (15 kB)\n",
            "Collecting aiofiles<24.0,>=22.0 (from gradio)\n",
            "  Downloading aiofiles-23.2.1-py3-none-any.whl.metadata (9.7 kB)\n",
            "Requirement already satisfied: anyio<5.0,>=3.0 in /usr/local/lib/python3.10/dist-packages (from gradio) (3.7.1)\n",
            "Collecting fastapi (from gradio)\n",
            "  Downloading fastapi-0.112.0-py3-none-any.whl.metadata (27 kB)\n",
            "Collecting ffmpy (from gradio)\n",
            "  Downloading ffmpy-0.4.0-py3-none-any.whl.metadata (2.9 kB)\n",
            "Collecting gradio-client==1.3.0 (from gradio)\n",
            "  Downloading gradio_client-1.3.0-py3-none-any.whl.metadata (7.1 kB)\n",
            "Collecting httpx>=0.24.1 (from gradio)\n",
            "  Downloading httpx-0.27.0-py3-none-any.whl.metadata (7.2 kB)\n",
            "Requirement already satisfied: huggingface-hub>=0.19.3 in /usr/local/lib/python3.10/dist-packages (from gradio) (0.23.5)\n",
            "Requirement already satisfied: importlib-resources<7.0,>=1.3 in /usr/local/lib/python3.10/dist-packages (from gradio) (6.4.0)\n",
            "Requirement already satisfied: jinja2<4.0 in /usr/local/lib/python3.10/dist-packages (from gradio) (3.1.4)\n",
            "Requirement already satisfied: markupsafe~=2.0 in /usr/local/lib/python3.10/dist-packages (from gradio) (2.1.5)\n",
            "Requirement already satisfied: matplotlib~=3.0 in /usr/local/lib/python3.10/dist-packages (from gradio) (3.7.1)\n",
            "Requirement already satisfied: numpy<3.0,>=1.0 in /usr/local/lib/python3.10/dist-packages (from gradio) (1.26.4)\n",
            "Collecting orjson~=3.0 (from gradio)\n",
            "  Downloading orjson-3.10.7-cp310-cp310-manylinux_2_17_x86_64.manylinux2014_x86_64.whl.metadata (50 kB)\n",
            "\u001b[2K     \u001b[90m━━━━━━━━━━━━━━━━━━━━━━━━━━━━━━━━━━━━━━━━\u001b[0m \u001b[32m50.4/50.4 kB\u001b[0m \u001b[31m4.3 MB/s\u001b[0m eta \u001b[36m0:00:00\u001b[0m\n",
            "\u001b[?25hRequirement already satisfied: packaging in /usr/local/lib/python3.10/dist-packages (from gradio) (24.1)\n",
            "Requirement already satisfied: pandas<3.0,>=1.0 in /usr/local/lib/python3.10/dist-packages (from gradio) (2.1.4)\n",
            "Requirement already satisfied: pillow<11.0,>=8.0 in /usr/local/lib/python3.10/dist-packages (from gradio) (9.4.0)\n",
            "Requirement already satisfied: pydantic>=2.0 in /usr/local/lib/python3.10/dist-packages (from gradio) (2.8.2)\n",
            "Requirement already satisfied: pydub in /usr/local/lib/python3.10/dist-packages (from gradio) (0.25.1)\n",
            "Collecting python-multipart>=0.0.9 (from gradio)\n",
            "  Downloading python_multipart-0.0.9-py3-none-any.whl.metadata (2.5 kB)\n",
            "Requirement already satisfied: pyyaml<7.0,>=5.0 in /usr/local/lib/python3.10/dist-packages (from gradio) (6.0.2)\n",
            "Collecting ruff>=0.2.2 (from gradio)\n",
            "  Downloading ruff-0.5.7-py3-none-manylinux_2_17_x86_64.manylinux2014_x86_64.whl.metadata (25 kB)\n",
            "Collecting semantic-version~=2.0 (from gradio)\n",
            "  Downloading semantic_version-2.10.0-py2.py3-none-any.whl.metadata (9.7 kB)\n",
            "Collecting tomlkit==0.12.0 (from gradio)\n",
            "  Downloading tomlkit-0.12.0-py3-none-any.whl.metadata (2.7 kB)\n",
            "Requirement already satisfied: typer<1.0,>=0.12 in /usr/local/lib/python3.10/dist-packages (from gradio) (0.12.3)\n",
            "Requirement already satisfied: typing-extensions~=4.0 in /usr/local/lib/python3.10/dist-packages (from gradio) (4.12.2)\n",
            "Requirement already satisfied: urllib3~=2.0 in /usr/local/lib/python3.10/dist-packages (from gradio) (2.0.7)\n",
            "Collecting uvicorn>=0.14.0 (from gradio)\n",
            "  Downloading uvicorn-0.30.5-py3-none-any.whl.metadata (6.6 kB)\n",
            "Requirement already satisfied: fsspec in /usr/local/lib/python3.10/dist-packages (from gradio-client==1.3.0->gradio) (2024.6.1)\n",
            "Collecting websockets<13.0,>=10.0 (from gradio-client==1.3.0->gradio)\n",
            "  Downloading websockets-12.0-cp310-cp310-manylinux_2_5_x86_64.manylinux1_x86_64.manylinux_2_17_x86_64.manylinux2014_x86_64.whl.metadata (6.6 kB)\n",
            "Requirement already satisfied: idna>=2.8 in /usr/local/lib/python3.10/dist-packages (from anyio<5.0,>=3.0->gradio) (3.7)\n",
            "Requirement already satisfied: sniffio>=1.1 in /usr/local/lib/python3.10/dist-packages (from anyio<5.0,>=3.0->gradio) (1.3.1)\n",
            "Requirement already satisfied: exceptiongroup in /usr/local/lib/python3.10/dist-packages (from anyio<5.0,>=3.0->gradio) (1.2.2)\n",
            "Requirement already satisfied: certifi in /usr/local/lib/python3.10/dist-packages (from httpx>=0.24.1->gradio) (2024.7.4)\n",
            "Collecting httpcore==1.* (from httpx>=0.24.1->gradio)\n",
            "  Downloading httpcore-1.0.5-py3-none-any.whl.metadata (20 kB)\n",
            "Collecting h11<0.15,>=0.13 (from httpcore==1.*->httpx>=0.24.1->gradio)\n",
            "  Downloading h11-0.14.0-py3-none-any.whl.metadata (8.2 kB)\n",
            "Requirement already satisfied: filelock in /usr/local/lib/python3.10/dist-packages (from huggingface-hub>=0.19.3->gradio) (3.15.4)\n",
            "Requirement already satisfied: requests in /usr/local/lib/python3.10/dist-packages (from huggingface-hub>=0.19.3->gradio) (2.32.3)\n",
            "Requirement already satisfied: tqdm>=4.42.1 in /usr/local/lib/python3.10/dist-packages (from huggingface-hub>=0.19.3->gradio) (4.66.5)\n",
            "Requirement already satisfied: contourpy>=1.0.1 in /usr/local/lib/python3.10/dist-packages (from matplotlib~=3.0->gradio) (1.2.1)\n",
            "Requirement already satisfied: cycler>=0.10 in /usr/local/lib/python3.10/dist-packages (from matplotlib~=3.0->gradio) (0.12.1)\n",
            "Requirement already satisfied: fonttools>=4.22.0 in /usr/local/lib/python3.10/dist-packages (from matplotlib~=3.0->gradio) (4.53.1)\n",
            "Requirement already satisfied: kiwisolver>=1.0.1 in /usr/local/lib/python3.10/dist-packages (from matplotlib~=3.0->gradio) (1.4.5)\n",
            "Requirement already satisfied: pyparsing>=2.3.1 in /usr/local/lib/python3.10/dist-packages (from matplotlib~=3.0->gradio) (3.1.2)\n",
            "Requirement already satisfied: python-dateutil>=2.7 in /usr/local/lib/python3.10/dist-packages (from matplotlib~=3.0->gradio) (2.8.2)\n",
            "Requirement already satisfied: pytz>=2020.1 in /usr/local/lib/python3.10/dist-packages (from pandas<3.0,>=1.0->gradio) (2024.1)\n",
            "Requirement already satisfied: tzdata>=2022.1 in /usr/local/lib/python3.10/dist-packages (from pandas<3.0,>=1.0->gradio) (2024.1)\n",
            "Requirement already satisfied: annotated-types>=0.4.0 in /usr/local/lib/python3.10/dist-packages (from pydantic>=2.0->gradio) (0.7.0)\n",
            "Requirement already satisfied: pydantic-core==2.20.1 in /usr/local/lib/python3.10/dist-packages (from pydantic>=2.0->gradio) (2.20.1)\n",
            "Requirement already satisfied: click>=8.0.0 in /usr/local/lib/python3.10/dist-packages (from typer<1.0,>=0.12->gradio) (8.1.7)\n",
            "Requirement already satisfied: shellingham>=1.3.0 in /usr/local/lib/python3.10/dist-packages (from typer<1.0,>=0.12->gradio) (1.5.4)\n",
            "Requirement already satisfied: rich>=10.11.0 in /usr/local/lib/python3.10/dist-packages (from typer<1.0,>=0.12->gradio) (13.7.1)\n",
            "Collecting starlette<0.38.0,>=0.37.2 (from fastapi->gradio)\n",
            "  Downloading starlette-0.37.2-py3-none-any.whl.metadata (5.9 kB)\n",
            "Requirement already satisfied: six>=1.5 in /usr/local/lib/python3.10/dist-packages (from python-dateutil>=2.7->matplotlib~=3.0->gradio) (1.16.0)\n",
            "Requirement already satisfied: markdown-it-py>=2.2.0 in /usr/local/lib/python3.10/dist-packages (from rich>=10.11.0->typer<1.0,>=0.12->gradio) (3.0.0)\n",
            "Requirement already satisfied: pygments<3.0.0,>=2.13.0 in /usr/local/lib/python3.10/dist-packages (from rich>=10.11.0->typer<1.0,>=0.12->gradio) (2.16.1)\n",
            "Requirement already satisfied: charset-normalizer<4,>=2 in /usr/local/lib/python3.10/dist-packages (from requests->huggingface-hub>=0.19.3->gradio) (3.3.2)\n",
            "Requirement already satisfied: mdurl~=0.1 in /usr/local/lib/python3.10/dist-packages (from markdown-it-py>=2.2.0->rich>=10.11.0->typer<1.0,>=0.12->gradio) (0.1.2)\n",
            "Downloading gradio-4.41.0-py3-none-any.whl (12.6 MB)\n",
            "\u001b[2K   \u001b[90m━━━━━━━━━━━━━━━━━━━━━━━━━━━━━━━━━━━━━━━━\u001b[0m \u001b[32m12.6/12.6 MB\u001b[0m \u001b[31m115.4 MB/s\u001b[0m eta \u001b[36m0:00:00\u001b[0m\n",
            "\u001b[?25hDownloading gradio_client-1.3.0-py3-none-any.whl (318 kB)\n",
            "\u001b[2K   \u001b[90m━━━━━━━━━━━━━━━━━━━━━━━━━━━━━━━━━━━━━━━━\u001b[0m \u001b[32m318.7/318.7 kB\u001b[0m \u001b[31m24.2 MB/s\u001b[0m eta \u001b[36m0:00:00\u001b[0m\n",
            "\u001b[?25hDownloading tomlkit-0.12.0-py3-none-any.whl (37 kB)\n",
            "Downloading aiofiles-23.2.1-py3-none-any.whl (15 kB)\n",
            "Downloading httpx-0.27.0-py3-none-any.whl (75 kB)\n",
            "\u001b[2K   \u001b[90m━━━━━━━━━━━━━━━━━━━━━━━━━━━━━━━━━━━━━━━━\u001b[0m \u001b[32m75.6/75.6 kB\u001b[0m \u001b[31m7.0 MB/s\u001b[0m eta \u001b[36m0:00:00\u001b[0m\n",
            "\u001b[?25hDownloading httpcore-1.0.5-py3-none-any.whl (77 kB)\n",
            "\u001b[2K   \u001b[90m━━━━━━━━━━━━━━━━━━━━━━━━━━━━━━━━━━━━━━━━\u001b[0m \u001b[32m77.9/77.9 kB\u001b[0m \u001b[31m7.1 MB/s\u001b[0m eta \u001b[36m0:00:00\u001b[0m\n",
            "\u001b[?25hDownloading orjson-3.10.7-cp310-cp310-manylinux_2_17_x86_64.manylinux2014_x86_64.whl (141 kB)\n",
            "\u001b[2K   \u001b[90m━━━━━━━━━━━━━━━━━━━━━━━━━━━━━━━━━━━━━━━━\u001b[0m \u001b[32m141.9/141.9 kB\u001b[0m \u001b[31m12.7 MB/s\u001b[0m eta \u001b[36m0:00:00\u001b[0m\n",
            "\u001b[?25hDownloading python_multipart-0.0.9-py3-none-any.whl (22 kB)\n",
            "Downloading ruff-0.5.7-py3-none-manylinux_2_17_x86_64.manylinux2014_x86_64.whl (10.2 MB)\n",
            "\u001b[2K   \u001b[90m━━━━━━━━━━━━━━━━━━━━━━━━━━━━━━━━━━━━━━━━\u001b[0m \u001b[32m10.2/10.2 MB\u001b[0m \u001b[31m37.6 MB/s\u001b[0m eta \u001b[36m0:00:00\u001b[0m\n",
            "\u001b[?25hDownloading semantic_version-2.10.0-py2.py3-none-any.whl (15 kB)\n",
            "Downloading uvicorn-0.30.5-py3-none-any.whl (62 kB)\n",
            "\u001b[2K   \u001b[90m━━━━━━━━━━━━━━━━━━━━━━━━━━━━━━━━━━━━━━━━\u001b[0m \u001b[32m62.8/62.8 kB\u001b[0m \u001b[31m5.7 MB/s\u001b[0m eta \u001b[36m0:00:00\u001b[0m\n",
            "\u001b[?25hDownloading fastapi-0.112.0-py3-none-any.whl (93 kB)\n",
            "\u001b[2K   \u001b[90m━━━━━━━━━━━━━━━━━━━━━━━━━━━━━━━━━━━━━━━━\u001b[0m \u001b[32m93.1/93.1 kB\u001b[0m \u001b[31m9.4 MB/s\u001b[0m eta \u001b[36m0:00:00\u001b[0m\n",
            "\u001b[?25hDownloading ffmpy-0.4.0-py3-none-any.whl (5.8 kB)\n",
            "Downloading h11-0.14.0-py3-none-any.whl (58 kB)\n",
            "\u001b[2K   \u001b[90m━━━━━━━━━━━━━━━━━━━━━━━━━━━━━━━━━━━━━━━━\u001b[0m \u001b[32m58.3/58.3 kB\u001b[0m \u001b[31m5.1 MB/s\u001b[0m eta \u001b[36m0:00:00\u001b[0m\n",
            "\u001b[?25hDownloading starlette-0.37.2-py3-none-any.whl (71 kB)\n",
            "\u001b[2K   \u001b[90m━━━━━━━━━━━━━━━━━━━━━━━━━━━━━━━━━━━━━━━━\u001b[0m \u001b[32m71.9/71.9 kB\u001b[0m \u001b[31m6.6 MB/s\u001b[0m eta \u001b[36m0:00:00\u001b[0m\n",
            "\u001b[?25hDownloading websockets-12.0-cp310-cp310-manylinux_2_5_x86_64.manylinux1_x86_64.manylinux_2_17_x86_64.manylinux2014_x86_64.whl (130 kB)\n",
            "\u001b[2K   \u001b[90m━━━━━━━━━━━━━━━━━━━━━━━━━━━━━━━━━━━━━━━━\u001b[0m \u001b[32m130.2/130.2 kB\u001b[0m \u001b[31m12.2 MB/s\u001b[0m eta \u001b[36m0:00:00\u001b[0m\n",
            "\u001b[?25hInstalling collected packages: websockets, tomlkit, semantic-version, ruff, python-multipart, orjson, h11, ffmpy, aiofiles, uvicorn, starlette, httpcore, httpx, fastapi, gradio-client, gradio\n",
            "  Attempting uninstall: tomlkit\n",
            "    Found existing installation: tomlkit 0.13.0\n",
            "    Uninstalling tomlkit-0.13.0:\n",
            "      Successfully uninstalled tomlkit-0.13.0\n",
            "Successfully installed aiofiles-23.2.1 fastapi-0.112.0 ffmpy-0.4.0 gradio-4.41.0 gradio-client-1.3.0 h11-0.14.0 httpcore-1.0.5 httpx-0.27.0 orjson-3.10.7 python-multipart-0.0.9 ruff-0.5.7 semantic-version-2.10.0 starlette-0.37.2 tomlkit-0.12.0 uvicorn-0.30.5 websockets-12.0\n"
          ]
        }
      ],
      "source": [
        "# install\n",
        "!pip install librosa\n",
        "!pip install numpy\n",
        "!pip install pandas\n",
        "!pip install tqdm\n",
        "!pip install pydub\n",
        "!apt-get install ffmpeg"
      ]
    },
    {
      "cell_type": "code",
      "execution_count": 291,
      "metadata": {
        "id": "5rpXaE9ztJie"
      },
      "outputs": [],
      "source": [
        "# import libraries\n",
        "import os\n",
        "import librosa\n",
        "import numpy as np\n",
        "import pandas as pd\n",
        "from tqdm import tqdm\n",
        "from pydub import AudioSegment\n",
        "import soundfile as sf\n",
        "import matplotlib.pyplot as plt\n",
        "from sklearn.model_selection import train_test_split\n",
        "from sklearn.preprocessing import LabelEncoder\n",
        "from tensorflow.keras.utils import to_categorical\n",
        "import torch\n",
        "import torch.utils.data\n",
        "from torch.utils.data import Dataset, DataLoader\n",
        "import torch.nn as nn\n",
        "import torch.nn.functional as F\n",
        "import torch.optim as optim\n",
        "from torch.utils.data import DataLoader\n",
        "import seaborn as sn\n",
        "from sklearn.metrics import confusion_matrix\n",
        "from torchvision.utils import make_grid\n",
        "import matplotlib.pyplot as plt # for plotting\n",
        "import torch.optim as optim #for gradient descent\n",
        "import torchvision\n",
        "from torchvision import datasets, models, transforms\n",
        "from os import listdir\n",
        "import wave\n",
        "import pylab\n",
        "import cv2"
      ]
    },
    {
      "cell_type": "code",
      "execution_count": 5,
      "metadata": {
        "colab": {
          "base_uri": "https://localhost:8080/"
        },
        "id": "vLcZvXhsu5jW",
        "outputId": "abf814d9-deec-456e-a41c-2e73209aaf87"
      },
      "outputs": [
        {
          "output_type": "stream",
          "name": "stdout",
          "text": [
            "Mounted at /content/drive\n"
          ]
        }
      ],
      "source": [
        "# mount google drive\n",
        "from google.colab import drive\n",
        "drive.mount('/content/drive')"
      ]
    },
    {
      "cell_type": "code",
      "execution_count": 24,
      "metadata": {
        "id": "EMs4tPQWu7fG"
      },
      "outputs": [],
      "source": [
        "# load audio\n",
        "dataset_path = \"/content/drive/MyDrive/APS360_Group_Project/archive/Data/genres_original\"\n",
        "\n",
        "# function to load an audio file using librosa with pydub as a fallback\n",
        "def load_audio(file_path, sr=22050):\n",
        "    try:\n",
        "        y, sr = librosa.load(file_path, sr=sr)\n",
        "    except Exception as e:\n",
        "        try:\n",
        "            audio = AudioSegment.from_file(file_path)\n",
        "            audio = audio.set_frame_rate(sr)\n",
        "            y = np.array(audio.get_array_of_samples(), dtype=np.float32)\n",
        "            y = y / (2**15)  # normalize to [-1, 1]\n",
        "        except Exception as e:\n",
        "            print(f\"Failed to load {file_path}: {e}\")\n",
        "            return None, sr\n",
        "    return y, sr"
      ]
    },
    {
      "cell_type": "markdown",
      "metadata": {
        "id": "j-7c4Kn0DumN"
      },
      "source": [
        "## Processing Audio Data"
      ]
    },
    {
      "cell_type": "markdown",
      "metadata": {
        "id": "RG_fj8ESDuie"
      },
      "source": []
    },
    {
      "cell_type": "code",
      "execution_count": 25,
      "metadata": {
        "id": "x3YLh_COu-PH"
      },
      "outputs": [],
      "source": [
        "# function to process audio (remove silent sections and normalize to [-1, 1])\n",
        "def load_and_process_audio(file_path, sr=22050, top_db=20):\n",
        "    y, sr = load_audio(file_path, sr)\n",
        "    if y is None:\n",
        "        return None, sr\n",
        "    # remove silent sections\n",
        "    y, _ = librosa.effects.trim(y, top_db=top_db)\n",
        "    # normalize the audio\n",
        "    y = librosa.util.normalize(y)\n",
        "    return y, sr\n",
        "\n",
        "# iterate through each genre directory and process the audio files\n",
        "def process_dataset(dataset_path=None, file_path=None, genre_files=True):\n",
        "\n",
        "    if genre_files:\n",
        "        genres = os.listdir(dataset_path)\n",
        "        processed_data = []\n",
        "\n",
        "        for genre in genres:\n",
        "            genre_path = os.path.join(dataset_path, genre)\n",
        "            if not os.path.isdir(genre_path):\n",
        "                continue\n",
        "\n",
        "            for file_name in tqdm(os.listdir(genre_path)):\n",
        "                if file_name.endswith(\".wav\"):\n",
        "                    file_path = os.path.join(genre_path, file_name)\n",
        "                    y, sr = load_and_process_audio(file_path)\n",
        "                    if y is not None:\n",
        "                        processed_data.append((genre, y, sr))\n",
        "\n",
        "    else:\n",
        "        processed_data = []\n",
        "        genre = \"\"\n",
        "        y, sr = load_and_process_audio(file_path)\n",
        "        if y is not None:\n",
        "            processed_data.append((genre, y, sr))\n",
        "\n",
        "    return processed_data"
      ]
    },
    {
      "cell_type": "code",
      "execution_count": 26,
      "metadata": {
        "colab": {
          "base_uri": "https://localhost:8080/"
        },
        "id": "G0Mcovw_hEaa",
        "outputId": "80bbd5a5-6c67-4aa6-adba-ebc4c23457b6"
      },
      "outputs": [
        {
          "output_type": "stream",
          "name": "stderr",
          "text": [
            "100%|██████████| 100/100 [01:31<00:00,  1.09it/s]\n",
            "100%|██████████| 100/100 [01:39<00:00,  1.00it/s]\n",
            "100%|██████████| 100/100 [01:16<00:00,  1.31it/s]\n",
            "100%|██████████| 100/100 [01:30<00:00,  1.11it/s]\n",
            "100%|██████████| 100/100 [01:33<00:00,  1.07it/s]\n",
            " 52%|█████▏    | 52/100 [00:50<00:55,  1.16s/it]<ipython-input-24-dfe2526b494b>:7: UserWarning: PySoundFile failed. Trying audioread instead.\n",
            "  y, sr = librosa.load(file_path, sr=sr)\n",
            "/usr/local/lib/python3.10/dist-packages/librosa/core/audio.py:184: FutureWarning: librosa.core.audio.__audioread_load\n",
            "\tDeprecated as of librosa version 0.10.0.\n",
            "\tIt will be removed in librosa version 1.0.\n",
            "  y, sr_native = __audioread_load(path, offset, duration, dtype)\n",
            " 53%|█████▎    | 53/100 [00:52<01:03,  1.34s/it]"
          ]
        },
        {
          "output_type": "stream",
          "name": "stdout",
          "text": [
            "Failed to load /content/drive/MyDrive/APS360_Group_Project/archive/Data/genres_original/jazz/jazz.00054.wav: Decoding failed. ffmpeg returned error code: 1\n",
            "\n",
            "Output from ffmpeg/avlib:\n",
            "\n",
            "ffmpeg version 4.4.2-0ubuntu0.22.04.1 Copyright (c) 2000-2021 the FFmpeg developers\n",
            "  built with gcc 11 (Ubuntu 11.2.0-19ubuntu1)\n",
            "  configuration: --prefix=/usr --extra-version=0ubuntu0.22.04.1 --toolchain=hardened --libdir=/usr/lib/x86_64-linux-gnu --incdir=/usr/include/x86_64-linux-gnu --arch=amd64 --enable-gpl --disable-stripping --enable-gnutls --enable-ladspa --enable-libaom --enable-libass --enable-libbluray --enable-libbs2b --enable-libcaca --enable-libcdio --enable-libcodec2 --enable-libdav1d --enable-libflite --enable-libfontconfig --enable-libfreetype --enable-libfribidi --enable-libgme --enable-libgsm --enable-libjack --enable-libmp3lame --enable-libmysofa --enable-libopenjpeg --enable-libopenmpt --enable-libopus --enable-libpulse --enable-librabbitmq --enable-librubberband --enable-libshine --enable-libsnappy --enable-libsoxr --enable-libspeex --enable-libsrt --enable-libssh --enable-libtheora --enable-libtwolame --enable-libvidstab --enable-libvorbis --enable-libvpx --enable-libwebp --enable-libx265 --enable-libxml2 --enable-libxvid --enable-libzimg --enable-libzmq --enable-libzvbi --enable-lv2 --enable-omx --enable-openal --enable-opencl --enable-opengl --enable-sdl2 --enable-pocketsphinx --enable-librsvg --enable-libmfx --enable-libdc1394 --enable-libdrm --enable-libiec61883 --enable-chromaprint --enable-frei0r --enable-libx264 --enable-shared\n",
            "  libavutil      56. 70.100 / 56. 70.100\n",
            "  libavcodec     58.134.100 / 58.134.100\n",
            "  libavformat    58. 76.100 / 58. 76.100\n",
            "  libavdevice    58. 13.100 / 58. 13.100\n",
            "  libavfilter     7.110.100 /  7.110.100\n",
            "  libswscale      5.  9.100 /  5.  9.100\n",
            "  libswresample   3.  9.100 /  3.  9.100\n",
            "  libpostproc    55.  9.100 / 55.  9.100\n",
            "/content/drive/MyDrive/APS360_Group_Project/archive/Data/genres_original/jazz/jazz.00054.wav: Invalid data found when processing input\n",
            "\n"
          ]
        },
        {
          "output_type": "stream",
          "name": "stderr",
          "text": [
            "100%|██████████| 100/100 [01:37<00:00,  1.02it/s]\n",
            "100%|██████████| 100/100 [01:28<00:00,  1.13it/s]\n",
            "100%|██████████| 100/100 [01:21<00:00,  1.23it/s]\n",
            "100%|██████████| 100/100 [01:45<00:00,  1.05s/it]\n",
            "100%|██████████| 100/100 [01:18<00:00,  1.28it/s]\n"
          ]
        }
      ],
      "source": [
        "processed_data = process_dataset(dataset_path=dataset_path)"
      ]
    },
    {
      "cell_type": "markdown",
      "metadata": {
        "id": "zWw0pvBPD3un"
      },
      "source": [
        "## Feature Extraction - Tempo (BPM), Beat Frames, and Beat Times"
      ]
    },
    {
      "cell_type": "code",
      "execution_count": 27,
      "metadata": {
        "id": "xY4-DFOKvBKn"
      },
      "outputs": [],
      "source": [
        "# function to extract tempo and beat frames\n",
        "def extract_tempo_and_beats(processed_data):\n",
        "    features = []\n",
        "\n",
        "    for genre, y, sr in processed_data:\n",
        "        tempo, beat_frames = librosa.beat.beat_track(y=y, sr=sr)\n",
        "        beat_times = librosa.frames_to_time(beat_frames, sr=sr)\n",
        "        features.append((genre, tempo, beat_frames, beat_times, y, sr))\n",
        "\n",
        "    return features\n",
        "\n",
        "# convert features to a DataFrame\n",
        "def features_to_dataframe(features):\n",
        "    df = pd.DataFrame(features, columns=['genre', 'tempo', 'beat_frames', 'beat_times', 'y', 'sr'])\n",
        "    return df"
      ]
    },
    {
      "cell_type": "code",
      "execution_count": 292,
      "metadata": {
        "id": "ZbCN6LXqhNa9"
      },
      "outputs": [],
      "source": [
        "features = extract_tempo_and_beats(processed_data)"
      ]
    },
    {
      "cell_type": "code",
      "execution_count": 293,
      "metadata": {
        "colab": {
          "base_uri": "https://localhost:8080/",
          "height": 597
        },
        "id": "IxRwcCx0SKmO",
        "outputId": "52e2c250-9360-4de7-86d3-829156ed9edb"
      },
      "outputs": [
        {
          "output_type": "execute_result",
          "data": {
            "text/plain": [
              "         genre                 tempo  \\\n",
              "0    classical           [95.703125]   \n",
              "1    classical      [161.4990234375]   \n",
              "2    classical          [103.359375]   \n",
              "3    classical   [99.38401442307692]   \n",
              "4    classical  [234.90767045454547]   \n",
              "..         ...                   ...   \n",
              "994        pop       [107.666015625]   \n",
              "995        pop         [92.28515625]   \n",
              "996        pop   [99.38401442307692]   \n",
              "997        pop   [78.30255681818181]   \n",
              "998        pop  [117.45383522727273]   \n",
              "\n",
              "                                           beat_frames  \\\n",
              "0    [13, 40, 66, 94, 119, 146, 173, 201, 229, 257,...   \n",
              "1    [7, 24, 40, 55, 72, 89, 106, 122, 137, 153, 16...   \n",
              "2    [68, 93, 120, 145, 171, 198, 226, 250, 273, 29...   \n",
              "3    [9, 36, 63, 92, 119, 144, 171, 198, 224, 253, ...   \n",
              "4    [14, 25, 36, 47, 57, 68, 79, 90, 100, 111, 122...   \n",
              "..                                                 ...   \n",
              "994  [10, 34, 58, 81, 105, 129, 152, 176, 199, 223,...   \n",
              "995  [93, 122, 150, 178, 207, 235, 264, 292, 321, 3...   \n",
              "996  [54, 81, 107, 133, 159, 185, 211, 237, 263, 28...   \n",
              "997  [61, 94, 126, 159, 191, 225, 257, 290, 322, 35...   \n",
              "998  [39, 61, 84, 106, 128, 151, 173, 196, 218, 241...   \n",
              "\n",
              "                                            beat_times  \\\n",
              "0    [0.301859410430839, 0.9287981859410431, 1.5325...   \n",
              "1    [0.16253968253968254, 0.5572789115646258, 0.92...   \n",
              "2    [1.5789569160997732, 2.159455782312925, 2.7863...   \n",
              "3    [0.2089795918367347, 0.8359183673469388, 1.462...   \n",
              "4    [0.3250793650793651, 0.5804988662131519, 0.835...   \n",
              "..                                                 ...   \n",
              "994  [0.23219954648526078, 0.7894784580498866, 1.34...   \n",
              "995  [2.159455782312925, 2.8328344671201813, 3.4829...   \n",
              "996  [1.253877551020408, 1.8808163265306121, 2.4845...   \n",
              "997  [1.4164172335600906, 2.182675736961451, 2.9257...   \n",
              "998  [0.905578231292517, 1.4164172335600906, 1.9504...   \n",
              "\n",
              "                                                     y     sr  \n",
              "0    [-0.058436945, -0.0508881, 0.012166963, 0.0250...  22050  \n",
              "1    [-0.03642555, -0.06769168, -0.08203488, -0.099...  22050  \n",
              "2    [0.04265124, 0.0921659, 0.10755956, 0.10167663...  22050  \n",
              "3    [-0.039123263, -0.0634771, -0.037473485, -0.02...  22050  \n",
              "4    [0.06686291, 0.09601907, 0.06588169, 0.0644799...  22050  \n",
              "..                                                 ...    ...  \n",
              "994  [0.16674805, 0.14935303, 0.13183594, 0.1317443...  22050  \n",
              "995  [0.2557068, 0.2401123, 0.27786255, 0.379364, 0...  22050  \n",
              "996  [0.049346924, 0.045135498, 0.029785156, 0.0246...  22050  \n",
              "997  [-0.10747326, -0.0968488, -0.080767564, -0.155...  22050  \n",
              "998  [0.10720825, 0.16122437, 0.28585815, 0.5710449...  22050  \n",
              "\n",
              "[999 rows x 6 columns]"
            ],
            "text/html": [
              "\n",
              "  <div id=\"df-c493d23a-c922-4d23-b333-c563de5fd677\" class=\"colab-df-container\">\n",
              "    <div>\n",
              "<style scoped>\n",
              "    .dataframe tbody tr th:only-of-type {\n",
              "        vertical-align: middle;\n",
              "    }\n",
              "\n",
              "    .dataframe tbody tr th {\n",
              "        vertical-align: top;\n",
              "    }\n",
              "\n",
              "    .dataframe thead th {\n",
              "        text-align: right;\n",
              "    }\n",
              "</style>\n",
              "<table border=\"1\" class=\"dataframe\">\n",
              "  <thead>\n",
              "    <tr style=\"text-align: right;\">\n",
              "      <th></th>\n",
              "      <th>genre</th>\n",
              "      <th>tempo</th>\n",
              "      <th>beat_frames</th>\n",
              "      <th>beat_times</th>\n",
              "      <th>y</th>\n",
              "      <th>sr</th>\n",
              "    </tr>\n",
              "  </thead>\n",
              "  <tbody>\n",
              "    <tr>\n",
              "      <th>0</th>\n",
              "      <td>classical</td>\n",
              "      <td>[95.703125]</td>\n",
              "      <td>[13, 40, 66, 94, 119, 146, 173, 201, 229, 257,...</td>\n",
              "      <td>[0.301859410430839, 0.9287981859410431, 1.5325...</td>\n",
              "      <td>[-0.058436945, -0.0508881, 0.012166963, 0.0250...</td>\n",
              "      <td>22050</td>\n",
              "    </tr>\n",
              "    <tr>\n",
              "      <th>1</th>\n",
              "      <td>classical</td>\n",
              "      <td>[161.4990234375]</td>\n",
              "      <td>[7, 24, 40, 55, 72, 89, 106, 122, 137, 153, 16...</td>\n",
              "      <td>[0.16253968253968254, 0.5572789115646258, 0.92...</td>\n",
              "      <td>[-0.03642555, -0.06769168, -0.08203488, -0.099...</td>\n",
              "      <td>22050</td>\n",
              "    </tr>\n",
              "    <tr>\n",
              "      <th>2</th>\n",
              "      <td>classical</td>\n",
              "      <td>[103.359375]</td>\n",
              "      <td>[68, 93, 120, 145, 171, 198, 226, 250, 273, 29...</td>\n",
              "      <td>[1.5789569160997732, 2.159455782312925, 2.7863...</td>\n",
              "      <td>[0.04265124, 0.0921659, 0.10755956, 0.10167663...</td>\n",
              "      <td>22050</td>\n",
              "    </tr>\n",
              "    <tr>\n",
              "      <th>3</th>\n",
              "      <td>classical</td>\n",
              "      <td>[99.38401442307692]</td>\n",
              "      <td>[9, 36, 63, 92, 119, 144, 171, 198, 224, 253, ...</td>\n",
              "      <td>[0.2089795918367347, 0.8359183673469388, 1.462...</td>\n",
              "      <td>[-0.039123263, -0.0634771, -0.037473485, -0.02...</td>\n",
              "      <td>22050</td>\n",
              "    </tr>\n",
              "    <tr>\n",
              "      <th>4</th>\n",
              "      <td>classical</td>\n",
              "      <td>[234.90767045454547]</td>\n",
              "      <td>[14, 25, 36, 47, 57, 68, 79, 90, 100, 111, 122...</td>\n",
              "      <td>[0.3250793650793651, 0.5804988662131519, 0.835...</td>\n",
              "      <td>[0.06686291, 0.09601907, 0.06588169, 0.0644799...</td>\n",
              "      <td>22050</td>\n",
              "    </tr>\n",
              "    <tr>\n",
              "      <th>...</th>\n",
              "      <td>...</td>\n",
              "      <td>...</td>\n",
              "      <td>...</td>\n",
              "      <td>...</td>\n",
              "      <td>...</td>\n",
              "      <td>...</td>\n",
              "    </tr>\n",
              "    <tr>\n",
              "      <th>994</th>\n",
              "      <td>pop</td>\n",
              "      <td>[107.666015625]</td>\n",
              "      <td>[10, 34, 58, 81, 105, 129, 152, 176, 199, 223,...</td>\n",
              "      <td>[0.23219954648526078, 0.7894784580498866, 1.34...</td>\n",
              "      <td>[0.16674805, 0.14935303, 0.13183594, 0.1317443...</td>\n",
              "      <td>22050</td>\n",
              "    </tr>\n",
              "    <tr>\n",
              "      <th>995</th>\n",
              "      <td>pop</td>\n",
              "      <td>[92.28515625]</td>\n",
              "      <td>[93, 122, 150, 178, 207, 235, 264, 292, 321, 3...</td>\n",
              "      <td>[2.159455782312925, 2.8328344671201813, 3.4829...</td>\n",
              "      <td>[0.2557068, 0.2401123, 0.27786255, 0.379364, 0...</td>\n",
              "      <td>22050</td>\n",
              "    </tr>\n",
              "    <tr>\n",
              "      <th>996</th>\n",
              "      <td>pop</td>\n",
              "      <td>[99.38401442307692]</td>\n",
              "      <td>[54, 81, 107, 133, 159, 185, 211, 237, 263, 28...</td>\n",
              "      <td>[1.253877551020408, 1.8808163265306121, 2.4845...</td>\n",
              "      <td>[0.049346924, 0.045135498, 0.029785156, 0.0246...</td>\n",
              "      <td>22050</td>\n",
              "    </tr>\n",
              "    <tr>\n",
              "      <th>997</th>\n",
              "      <td>pop</td>\n",
              "      <td>[78.30255681818181]</td>\n",
              "      <td>[61, 94, 126, 159, 191, 225, 257, 290, 322, 35...</td>\n",
              "      <td>[1.4164172335600906, 2.182675736961451, 2.9257...</td>\n",
              "      <td>[-0.10747326, -0.0968488, -0.080767564, -0.155...</td>\n",
              "      <td>22050</td>\n",
              "    </tr>\n",
              "    <tr>\n",
              "      <th>998</th>\n",
              "      <td>pop</td>\n",
              "      <td>[117.45383522727273]</td>\n",
              "      <td>[39, 61, 84, 106, 128, 151, 173, 196, 218, 241...</td>\n",
              "      <td>[0.905578231292517, 1.4164172335600906, 1.9504...</td>\n",
              "      <td>[0.10720825, 0.16122437, 0.28585815, 0.5710449...</td>\n",
              "      <td>22050</td>\n",
              "    </tr>\n",
              "  </tbody>\n",
              "</table>\n",
              "<p>999 rows × 6 columns</p>\n",
              "</div>\n",
              "    <div class=\"colab-df-buttons\">\n",
              "\n",
              "  <div class=\"colab-df-container\">\n",
              "    <button class=\"colab-df-convert\" onclick=\"convertToInteractive('df-c493d23a-c922-4d23-b333-c563de5fd677')\"\n",
              "            title=\"Convert this dataframe to an interactive table.\"\n",
              "            style=\"display:none;\">\n",
              "\n",
              "  <svg xmlns=\"http://www.w3.org/2000/svg\" height=\"24px\" viewBox=\"0 -960 960 960\">\n",
              "    <path d=\"M120-120v-720h720v720H120Zm60-500h600v-160H180v160Zm220 220h160v-160H400v160Zm0 220h160v-160H400v160ZM180-400h160v-160H180v160Zm440 0h160v-160H620v160ZM180-180h160v-160H180v160Zm440 0h160v-160H620v160Z\"/>\n",
              "  </svg>\n",
              "    </button>\n",
              "\n",
              "  <style>\n",
              "    .colab-df-container {\n",
              "      display:flex;\n",
              "      gap: 12px;\n",
              "    }\n",
              "\n",
              "    .colab-df-convert {\n",
              "      background-color: #E8F0FE;\n",
              "      border: none;\n",
              "      border-radius: 50%;\n",
              "      cursor: pointer;\n",
              "      display: none;\n",
              "      fill: #1967D2;\n",
              "      height: 32px;\n",
              "      padding: 0 0 0 0;\n",
              "      width: 32px;\n",
              "    }\n",
              "\n",
              "    .colab-df-convert:hover {\n",
              "      background-color: #E2EBFA;\n",
              "      box-shadow: 0px 1px 2px rgba(60, 64, 67, 0.3), 0px 1px 3px 1px rgba(60, 64, 67, 0.15);\n",
              "      fill: #174EA6;\n",
              "    }\n",
              "\n",
              "    .colab-df-buttons div {\n",
              "      margin-bottom: 4px;\n",
              "    }\n",
              "\n",
              "    [theme=dark] .colab-df-convert {\n",
              "      background-color: #3B4455;\n",
              "      fill: #D2E3FC;\n",
              "    }\n",
              "\n",
              "    [theme=dark] .colab-df-convert:hover {\n",
              "      background-color: #434B5C;\n",
              "      box-shadow: 0px 1px 3px 1px rgba(0, 0, 0, 0.15);\n",
              "      filter: drop-shadow(0px 1px 2px rgba(0, 0, 0, 0.3));\n",
              "      fill: #FFFFFF;\n",
              "    }\n",
              "  </style>\n",
              "\n",
              "    <script>\n",
              "      const buttonEl =\n",
              "        document.querySelector('#df-c493d23a-c922-4d23-b333-c563de5fd677 button.colab-df-convert');\n",
              "      buttonEl.style.display =\n",
              "        google.colab.kernel.accessAllowed ? 'block' : 'none';\n",
              "\n",
              "      async function convertToInteractive(key) {\n",
              "        const element = document.querySelector('#df-c493d23a-c922-4d23-b333-c563de5fd677');\n",
              "        const dataTable =\n",
              "          await google.colab.kernel.invokeFunction('convertToInteractive',\n",
              "                                                    [key], {});\n",
              "        if (!dataTable) return;\n",
              "\n",
              "        const docLinkHtml = 'Like what you see? Visit the ' +\n",
              "          '<a target=\"_blank\" href=https://colab.research.google.com/notebooks/data_table.ipynb>data table notebook</a>'\n",
              "          + ' to learn more about interactive tables.';\n",
              "        element.innerHTML = '';\n",
              "        dataTable['output_type'] = 'display_data';\n",
              "        await google.colab.output.renderOutput(dataTable, element);\n",
              "        const docLink = document.createElement('div');\n",
              "        docLink.innerHTML = docLinkHtml;\n",
              "        element.appendChild(docLink);\n",
              "      }\n",
              "    </script>\n",
              "  </div>\n",
              "\n",
              "\n",
              "<div id=\"df-8911911a-e5c6-4018-b32d-2d51ca8c399a\">\n",
              "  <button class=\"colab-df-quickchart\" onclick=\"quickchart('df-8911911a-e5c6-4018-b32d-2d51ca8c399a')\"\n",
              "            title=\"Suggest charts\"\n",
              "            style=\"display:none;\">\n",
              "\n",
              "<svg xmlns=\"http://www.w3.org/2000/svg\" height=\"24px\"viewBox=\"0 0 24 24\"\n",
              "     width=\"24px\">\n",
              "    <g>\n",
              "        <path d=\"M19 3H5c-1.1 0-2 .9-2 2v14c0 1.1.9 2 2 2h14c1.1 0 2-.9 2-2V5c0-1.1-.9-2-2-2zM9 17H7v-7h2v7zm4 0h-2V7h2v10zm4 0h-2v-4h2v4z\"/>\n",
              "    </g>\n",
              "</svg>\n",
              "  </button>\n",
              "\n",
              "<style>\n",
              "  .colab-df-quickchart {\n",
              "      --bg-color: #E8F0FE;\n",
              "      --fill-color: #1967D2;\n",
              "      --hover-bg-color: #E2EBFA;\n",
              "      --hover-fill-color: #174EA6;\n",
              "      --disabled-fill-color: #AAA;\n",
              "      --disabled-bg-color: #DDD;\n",
              "  }\n",
              "\n",
              "  [theme=dark] .colab-df-quickchart {\n",
              "      --bg-color: #3B4455;\n",
              "      --fill-color: #D2E3FC;\n",
              "      --hover-bg-color: #434B5C;\n",
              "      --hover-fill-color: #FFFFFF;\n",
              "      --disabled-bg-color: #3B4455;\n",
              "      --disabled-fill-color: #666;\n",
              "  }\n",
              "\n",
              "  .colab-df-quickchart {\n",
              "    background-color: var(--bg-color);\n",
              "    border: none;\n",
              "    border-radius: 50%;\n",
              "    cursor: pointer;\n",
              "    display: none;\n",
              "    fill: var(--fill-color);\n",
              "    height: 32px;\n",
              "    padding: 0;\n",
              "    width: 32px;\n",
              "  }\n",
              "\n",
              "  .colab-df-quickchart:hover {\n",
              "    background-color: var(--hover-bg-color);\n",
              "    box-shadow: 0 1px 2px rgba(60, 64, 67, 0.3), 0 1px 3px 1px rgba(60, 64, 67, 0.15);\n",
              "    fill: var(--button-hover-fill-color);\n",
              "  }\n",
              "\n",
              "  .colab-df-quickchart-complete:disabled,\n",
              "  .colab-df-quickchart-complete:disabled:hover {\n",
              "    background-color: var(--disabled-bg-color);\n",
              "    fill: var(--disabled-fill-color);\n",
              "    box-shadow: none;\n",
              "  }\n",
              "\n",
              "  .colab-df-spinner {\n",
              "    border: 2px solid var(--fill-color);\n",
              "    border-color: transparent;\n",
              "    border-bottom-color: var(--fill-color);\n",
              "    animation:\n",
              "      spin 1s steps(1) infinite;\n",
              "  }\n",
              "\n",
              "  @keyframes spin {\n",
              "    0% {\n",
              "      border-color: transparent;\n",
              "      border-bottom-color: var(--fill-color);\n",
              "      border-left-color: var(--fill-color);\n",
              "    }\n",
              "    20% {\n",
              "      border-color: transparent;\n",
              "      border-left-color: var(--fill-color);\n",
              "      border-top-color: var(--fill-color);\n",
              "    }\n",
              "    30% {\n",
              "      border-color: transparent;\n",
              "      border-left-color: var(--fill-color);\n",
              "      border-top-color: var(--fill-color);\n",
              "      border-right-color: var(--fill-color);\n",
              "    }\n",
              "    40% {\n",
              "      border-color: transparent;\n",
              "      border-right-color: var(--fill-color);\n",
              "      border-top-color: var(--fill-color);\n",
              "    }\n",
              "    60% {\n",
              "      border-color: transparent;\n",
              "      border-right-color: var(--fill-color);\n",
              "    }\n",
              "    80% {\n",
              "      border-color: transparent;\n",
              "      border-right-color: var(--fill-color);\n",
              "      border-bottom-color: var(--fill-color);\n",
              "    }\n",
              "    90% {\n",
              "      border-color: transparent;\n",
              "      border-bottom-color: var(--fill-color);\n",
              "    }\n",
              "  }\n",
              "</style>\n",
              "\n",
              "  <script>\n",
              "    async function quickchart(key) {\n",
              "      const quickchartButtonEl =\n",
              "        document.querySelector('#' + key + ' button');\n",
              "      quickchartButtonEl.disabled = true;  // To prevent multiple clicks.\n",
              "      quickchartButtonEl.classList.add('colab-df-spinner');\n",
              "      try {\n",
              "        const charts = await google.colab.kernel.invokeFunction(\n",
              "            'suggestCharts', [key], {});\n",
              "      } catch (error) {\n",
              "        console.error('Error during call to suggestCharts:', error);\n",
              "      }\n",
              "      quickchartButtonEl.classList.remove('colab-df-spinner');\n",
              "      quickchartButtonEl.classList.add('colab-df-quickchart-complete');\n",
              "    }\n",
              "    (() => {\n",
              "      let quickchartButtonEl =\n",
              "        document.querySelector('#df-8911911a-e5c6-4018-b32d-2d51ca8c399a button');\n",
              "      quickchartButtonEl.style.display =\n",
              "        google.colab.kernel.accessAllowed ? 'block' : 'none';\n",
              "    })();\n",
              "  </script>\n",
              "</div>\n",
              "\n",
              "  <div id=\"id_63261c78-0b46-4069-8914-dcc2b2927ec4\">\n",
              "    <style>\n",
              "      .colab-df-generate {\n",
              "        background-color: #E8F0FE;\n",
              "        border: none;\n",
              "        border-radius: 50%;\n",
              "        cursor: pointer;\n",
              "        display: none;\n",
              "        fill: #1967D2;\n",
              "        height: 32px;\n",
              "        padding: 0 0 0 0;\n",
              "        width: 32px;\n",
              "      }\n",
              "\n",
              "      .colab-df-generate:hover {\n",
              "        background-color: #E2EBFA;\n",
              "        box-shadow: 0px 1px 2px rgba(60, 64, 67, 0.3), 0px 1px 3px 1px rgba(60, 64, 67, 0.15);\n",
              "        fill: #174EA6;\n",
              "      }\n",
              "\n",
              "      [theme=dark] .colab-df-generate {\n",
              "        background-color: #3B4455;\n",
              "        fill: #D2E3FC;\n",
              "      }\n",
              "\n",
              "      [theme=dark] .colab-df-generate:hover {\n",
              "        background-color: #434B5C;\n",
              "        box-shadow: 0px 1px 3px 1px rgba(0, 0, 0, 0.15);\n",
              "        filter: drop-shadow(0px 1px 2px rgba(0, 0, 0, 0.3));\n",
              "        fill: #FFFFFF;\n",
              "      }\n",
              "    </style>\n",
              "    <button class=\"colab-df-generate\" onclick=\"generateWithVariable('features_df')\"\n",
              "            title=\"Generate code using this dataframe.\"\n",
              "            style=\"display:none;\">\n",
              "\n",
              "  <svg xmlns=\"http://www.w3.org/2000/svg\" height=\"24px\"viewBox=\"0 0 24 24\"\n",
              "       width=\"24px\">\n",
              "    <path d=\"M7,19H8.4L18.45,9,17,7.55,7,17.6ZM5,21V16.75L18.45,3.32a2,2,0,0,1,2.83,0l1.4,1.43a1.91,1.91,0,0,1,.58,1.4,1.91,1.91,0,0,1-.58,1.4L9.25,21ZM18.45,9,17,7.55Zm-12,3A5.31,5.31,0,0,0,4.9,8.1,5.31,5.31,0,0,0,1,6.5,5.31,5.31,0,0,0,4.9,4.9,5.31,5.31,0,0,0,6.5,1,5.31,5.31,0,0,0,8.1,4.9,5.31,5.31,0,0,0,12,6.5,5.46,5.46,0,0,0,6.5,12Z\"/>\n",
              "  </svg>\n",
              "    </button>\n",
              "    <script>\n",
              "      (() => {\n",
              "      const buttonEl =\n",
              "        document.querySelector('#id_63261c78-0b46-4069-8914-dcc2b2927ec4 button.colab-df-generate');\n",
              "      buttonEl.style.display =\n",
              "        google.colab.kernel.accessAllowed ? 'block' : 'none';\n",
              "\n",
              "      buttonEl.onclick = () => {\n",
              "        google.colab.notebook.generateWithVariable('features_df');\n",
              "      }\n",
              "      })();\n",
              "    </script>\n",
              "  </div>\n",
              "\n",
              "    </div>\n",
              "  </div>\n"
            ],
            "application/vnd.google.colaboratory.intrinsic+json": {
              "type": "dataframe",
              "variable_name": "features_df",
              "summary": "{\n  \"name\": \"features_df\",\n  \"rows\": 999,\n  \"fields\": [\n    {\n      \"column\": \"genre\",\n      \"properties\": {\n        \"dtype\": \"category\",\n        \"num_unique_values\": 10,\n        \"samples\": [\n          \"blues\",\n          \"reggae\",\n          \"jazz\"\n        ],\n        \"semantic_type\": \"\",\n        \"description\": \"\"\n      }\n    },\n    {\n      \"column\": \"tempo\",\n      \"properties\": {\n        \"dtype\": \"object\",\n        \"semantic_type\": \"\",\n        \"description\": \"\"\n      }\n    },\n    {\n      \"column\": \"beat_frames\",\n      \"properties\": {\n        \"dtype\": \"object\",\n        \"semantic_type\": \"\",\n        \"description\": \"\"\n      }\n    },\n    {\n      \"column\": \"beat_times\",\n      \"properties\": {\n        \"dtype\": \"object\",\n        \"semantic_type\": \"\",\n        \"description\": \"\"\n      }\n    },\n    {\n      \"column\": \"y\",\n      \"properties\": {\n        \"dtype\": \"object\",\n        \"semantic_type\": \"\",\n        \"description\": \"\"\n      }\n    },\n    {\n      \"column\": \"sr\",\n      \"properties\": {\n        \"dtype\": \"number\",\n        \"std\": 0,\n        \"min\": 22050,\n        \"max\": 22050,\n        \"num_unique_values\": 1,\n        \"samples\": [\n          22050\n        ],\n        \"semantic_type\": \"\",\n        \"description\": \"\"\n      }\n    }\n  ]\n}"
            }
          },
          "metadata": {},
          "execution_count": 293
        }
      ],
      "source": [
        "features_df = features_to_dataframe(features)\n",
        "features_df"
      ]
    },
    {
      "cell_type": "code",
      "execution_count": 296,
      "metadata": {
        "id": "Pho-6IOvY9uM"
      },
      "outputs": [],
      "source": [
        "def graph_combo(df: pd.DataFrame):\n",
        "    for index, row in tqdm(df.iterrows(), total=len(df), desc='Processing'):\n",
        "        genre = row['genre']\n",
        "        y = row['y']  # audio waveform\n",
        "        sr = row['sr']  # sampling rate\n",
        "        D = np.abs(librosa.stft(y))\n",
        "\n",
        "        onset_env = librosa.onset.onset_strength(y=y, sr=sr)\n",
        "\n",
        "        tempogram = librosa.feature.tempogram(onset_envelope=onset_env, sr=sr)\n",
        "\n",
        "        fig, ax = plt.subplots(2,1,figsize=(5,5),sharex=True,sharey=False)\n",
        "        plt.subplot(211)\n",
        "        plt.subplots_adjust(hspace = 0.5)\n",
        "        librosa.display.specshow(tempogram, sr=sr, x_axis='time', hop_length=512)\n",
        "        plt.colorbar()\n",
        "        plt.title(f'Tempogram for genre')\n",
        "        plt.tight_layout()\n",
        "\n",
        "        plt.subplot(212)\n",
        "        librosa.display.specshow(librosa.amplitude_to_db(D, ref=np.max), sr=sr, x_axis='time', y_axis='log')\n",
        "        plt.colorbar(format='%+2.0f dB')\n",
        "        plt.title(f'Spectrogram for genre')\n",
        "        plt.tight_layout()\n",
        "\n",
        "        # manage directory for saving\n",
        "        base_dir = '/content/drive/MyDrive/APS360_Group_Project/Combo/'\n",
        "        os.makedirs(base_dir, exist_ok=True)\n",
        "        save_path = os.path.join(base_dir, genre)\n",
        "        os.makedirs(save_path, exist_ok=True)  # Ensure genre-specific directory exists\n",
        "\n",
        "        # save the plot\n",
        "        plt.savefig(os.path.join(save_path, f'{genre}_{index}.png'))\n",
        "\n",
        "        plt.close()"
      ]
    },
    {
      "cell_type": "code",
      "execution_count": null,
      "metadata": {
        "colab": {
          "base_uri": "https://localhost:8080/"
        },
        "id": "zgJs5yi5vRDc",
        "outputId": "902fa61d-3e1a-4efc-de5e-25e87f0e91d7"
      },
      "outputs": [
        {
          "name": "stderr",
          "output_type": "stream",
          "text": [
            "Processing: 100%|██████████| 333/333 [16:25<00:00,  2.96s/it]\n"
          ]
        }
      ],
      "source": [
        "# For the spectrogram, tempogram combo images\n",
        "graph_combo(features_df[0:int(999/3):1])"
      ]
    },
    {
      "cell_type": "code",
      "execution_count": null,
      "metadata": {
        "colab": {
          "base_uri": "https://localhost:8080/"
        },
        "id": "bzTTt3kxwV6T",
        "outputId": "93a49aa6-38e2-42ff-8caa-527eacd46354"
      },
      "outputs": [
        {
          "name": "stderr",
          "output_type": "stream",
          "text": [
            "Processing: 100%|██████████| 333/333 [16:07<00:00,  2.91s/it]\n"
          ]
        }
      ],
      "source": [
        "graph_combo(features_df[int(999/3):int((999/3)*2):1])"
      ]
    },
    {
      "cell_type": "code",
      "execution_count": null,
      "metadata": {
        "colab": {
          "base_uri": "https://localhost:8080/"
        },
        "id": "67k0SCUzvZAq",
        "outputId": "a94b001b-d56d-4fd2-e25b-55e2a94d967c"
      },
      "outputs": [
        {
          "name": "stderr",
          "output_type": "stream",
          "text": [
            "Processing: 100%|██████████| 333/333 [15:41<00:00,  2.83s/it]\n"
          ]
        }
      ],
      "source": [
        "graph_combo(features_df[int((999/3)*2):999:1])                                                                                                                                                                                                                                                                                                                                                                                                                                                                                                                                                                                                                                                                                                                                                                                                                                                                                                                                                                                                                                                                                                                                                       agraph_combo(features_df[int((999/3)*2):999:1])"
      ]
    },
    {
      "cell_type": "code",
      "execution_count": 297,
      "metadata": {
        "id": "6Pbn5zMQvbM4"
      },
      "outputs": [],
      "source": [
        "from torch.utils.data import DataLoader, SubsetRandomSampler\n",
        "def get_data_loader(target_classes, batch_size):\n",
        "  # Specify path to your dataset folder in Google Drive\n",
        "  data_dir_tempogram = '/content/drive/MyDrive/APS360_Group_Project/tempograms/'\n",
        "  data_dir_spectrogram = '/content/drive/MyDrive/APS360_Group_Project/spectrograms/'\n",
        "  data_dir_combo = '/content/drive/MyDrive/APS360_Group_Project/Combo/'\n",
        "\n",
        "  # normalize images\n",
        "  transform = transforms.Compose([transforms.ToTensor(),\n",
        "                                  transforms.Normalize((0.5, 0.5, 0.5), (0.5, 0.5, 0.5))])\n",
        "\n",
        "  # Create dataset instance\n",
        "  dataset_combo = datasets.ImageFolder(root=data_dir_combo, transform=transform)\n",
        "\n",
        "  indices = list(range(len(dataset_combo)))\n",
        "  np.random.shuffle(indices)\n",
        "\n",
        "  split_60 = int(len(dataset_combo) * 0.6)\n",
        "  split_20 = int(len(dataset_combo) * 0.2)\n",
        "\n",
        "  trial_train_indices = indices[:split_60]\n",
        "  trial_val_indices = indices[split_60:split_60 + split_20]\n",
        "  trial_test_indices = indices[split_60 + split_20:]\n",
        "\n",
        "  trial_train_sampler = SubsetRandomSampler(trial_train_indices)\n",
        "  trial_val_sampler = SubsetRandomSampler(trial_val_indices)\n",
        "  trial_test_sampler = SubsetRandomSampler(trial_test_indices)\n",
        "\n",
        "  # Data loaders for spectro/tempogram combo images\n",
        "  trial_train_loader = DataLoader(dataset_combo, batch_size=batch_size, sampler=trial_train_sampler)\n",
        "  trial_val_loader = DataLoader(dataset_combo, batch_size=batch_size, sampler=trial_val_sampler)\n",
        "  trial_test_loader = DataLoader(dataset_combo, batch_size=batch_size, sampler=trial_test_sampler)\n",
        "\n",
        "  return trial_train_loader, trial_val_loader, trial_test_loader, target_classes"
      ]
    },
    {
      "cell_type": "code",
      "execution_count": 298,
      "metadata": {
        "colab": {
          "base_uri": "https://localhost:8080/"
        },
        "id": "tH9ZA70EMCyE",
        "outputId": "ec1268d7-947d-43de-b96c-7b069d8ad552"
      },
      "outputs": [
        {
          "output_type": "stream",
          "name": "stdout",
          "text": [
            "torch.Size([10, 3, 500, 500])\n"
          ]
        }
      ],
      "source": [
        "train_loader, val_loader, test_loader, target = get_data_loader(['classical', 'blues', 'country', 'disco', 'hiphop', 'jazz', 'metal', 'pop', 'reggae', 'rock'], 10)\n",
        "\n",
        "for i in train_loader:\n",
        "  print(i[0].shape)\n",
        "  break"
      ]
    },
    {
      "cell_type": "code",
      "execution_count": 36,
      "metadata": {
        "colab": {
          "base_uri": "https://localhost:8080/"
        },
        "id": "QALBl8-cgjZn",
        "outputId": "5e05fc9a-a4e6-441f-96bf-5666bd3f09c1"
      },
      "outputs": [
        {
          "output_type": "stream",
          "name": "stdout",
          "text": [
            "Total data points in train loader: 599\n",
            "Total data points in val loader: 199\n",
            "Total data points in test loader: 201\n"
          ]
        }
      ],
      "source": [
        "print(\"Total data points in train loader:\", len(train_loader.sampler))\n",
        "print(\"Total data points in val loader:\", len(val_loader.sampler))\n",
        "print(\"Total data points in test loader:\", len(test_loader.sampler))"
      ]
    },
    {
      "cell_type": "code",
      "execution_count": 299,
      "metadata": {
        "id": "LARKIpjhMj59",
        "colab": {
          "base_uri": "https://localhost:8080/"
        },
        "outputId": "ddb6fea7-027e-4b30-bcae-edbf2a55a516"
      },
      "outputs": [
        {
          "output_type": "stream",
          "name": "stdout",
          "text": [
            "Class distribution: Counter({6: 73, 0: 66, 1: 65, 2: 64, 9: 57, 4: 56, 3: 56, 7: 55, 5: 54, 8: 53})\n"
          ]
        }
      ],
      "source": [
        "# Check if training data is balanced\n",
        "\n",
        "import torch\n",
        "from torch.utils.data import DataLoader, Dataset\n",
        "from collections import Counter\n",
        "\n",
        "\n",
        "# Check balance in DataLoader\n",
        "label_counts = Counter()\n",
        "\n",
        "for _, label_batch in train_loader:\n",
        "    label_counts.update(label_batch.tolist())\n",
        "\n",
        "print(f\"Class distribution: {label_counts}\")\n"
      ]
    },
    {
      "cell_type": "markdown",
      "metadata": {
        "id": "zFzKeASKMVND"
      },
      "source": [
        "## Visualization of Dataset"
      ]
    },
    {
      "cell_type": "code",
      "execution_count": null,
      "metadata": {
        "colab": {
          "base_uri": "https://localhost:8080/",
          "height": 601
        },
        "id": "y3qfPi-OMYbe",
        "outputId": "b6a28ab0-7686-4afa-f641-032dccbd767d"
      },
      "outputs": [
        {
          "data": {
            "image/png": "[encoded data removed]",
            "text/plain": [
              "<Figure size 1000x600 with 1 Axes>"
            ]
          },
          "metadata": {},
          "output_type": "display_data"
        }
      ],
      "source": [
        "# Extract genre counts for visualization\n",
        "genre_counts = features_df['genre'].value_counts()\n",
        "\n",
        "# Plot the bar graph\n",
        "plt.figure(figsize=(10, 6))\n",
        "bars = plt.bar(genre_counts.index, genre_counts.values)\n",
        "plt.title('Number of Songs in Each Genre')\n",
        "plt.xlabel('Genre')\n",
        "plt.ylabel('Number of Songs')\n",
        "plt.xticks(rotation=45)\n",
        "\n",
        "# Add labels on each bar\n",
        "for bar in bars:\n",
        "    yval = bar.get_height()\n",
        "    plt.text(bar.get_x() + bar.get_width()/2, yval + 1, int(yval), ha='center', va='bottom')\n",
        "\n",
        "plt.show()"
      ]
    },
    {
      "cell_type": "markdown",
      "metadata": {
        "id": "UIoawEsMPnk-"
      },
      "source": [
        "## Baseline Model"
      ]
    },
    {
      "cell_type": "code",
      "execution_count": 300,
      "metadata": {
        "colab": {
          "base_uri": "https://localhost:8080/"
        },
        "id": "ZeRSCXzLPVbQ",
        "outputId": "0ea32a77-13c5-4c35-9d19-ad5aeb9d0b00"
      },
      "outputs": [
        {
          "output_type": "stream",
          "name": "stdout",
          "text": [
            "Accuracy: 43.333333333333336%\n"
          ]
        }
      ],
      "source": [
        "bpms = {}\n",
        "\n",
        "genres = ['classical', 'blues', 'country', 'disco', 'hiphop', 'jazz', 'metal', 'pop', 'reggae', 'rock']\n",
        "\n",
        "base_df = pd.DataFrame()\n",
        "\n",
        "# create a dataframe with the frist 5 songs of each genre\n",
        "for i in genres:\n",
        "  df = features_df[features_df['genre'] == i]\n",
        "  indices = list(df.index.values)\n",
        "  df = df.reset_index(drop=True)\n",
        "  df= df.loc[:4,['genre','tempo', 'beat_frames']]\n",
        "  df.insert(0, \"row\", indices[:5], True)\n",
        "  df.to_dict()\n",
        "  base_df = pd.concat([base_df,df]).reset_index(drop=True)\n",
        "\n",
        "genre_tempo = []\n",
        "\n",
        "for row in base_df.index:\n",
        "  label = base_df.loc[row, \"genre\"]\n",
        "  bpm = base_df.loc[row, \"tempo\"]\n",
        "  index = base_df.loc[row, \"row\"]\n",
        "\n",
        "  # bpms (dict) contains each enre and all of the bpms of that genre\n",
        "  if label in bpms:\n",
        "    bpms[label].append(bpm)\n",
        "    genre_tempo.append(f\"{label}_{index}\")\n",
        "  else:\n",
        "    bpms[label] = [bpm]\n",
        "    genre_tempo.append(f\"{label}_{index}\")\n",
        "\n",
        "testing_df = pd.DataFrame()\n",
        "for i in genres:\n",
        "  test = features_df[features_df['genre'] == i]\n",
        "  indices = list(test.index.values)\n",
        "  test = test.reset_index(drop=True)\n",
        "  test = test.loc[:9,['genre','tempo', 'beat_frames']]\n",
        "  test.insert(0, \"row\", indices[:10], True)\n",
        "  test.to_dict()\n",
        "  testing_df = pd.concat([testing_df,test]).reset_index(drop=True)\n",
        "\n",
        "testing_df = testing_df.sample(n=30)\n",
        "pos_genre = {}\n",
        "\n",
        "test_indices = testing_df.index.values\n",
        "\n",
        "for row in test_indices:\n",
        "  label = testing_df.loc[row, \"genre\"]\n",
        "  bpm = testing_df.loc[row, \"tempo\"]\n",
        "\n",
        "  for genre in genres:\n",
        "    # the pos_genres (possible genres) for each song should only be genres that the songs bpm is within range of\n",
        "    if bpm < max(bpms[genre]) and bpm > min(bpms[genre]):\n",
        "      if row in pos_genre:\n",
        "        pos_genre[row].append(genre)\n",
        "      else:\n",
        "        pos_genre[row] = [genre]\n",
        "\n",
        "for i in test_indices:\n",
        "  if i not in pos_genre:\n",
        "    pos_genre[i] = ['classical', 'blues', 'country', 'disco', 'hiphop', 'jazz', 'metal', 'pop', 'reggae', 'rock']\n",
        "\n",
        "# define the function to compute MSE between two images\n",
        "def mse(img1, img2):\n",
        "   h, w = img1.shape\n",
        "   diff = cv2.subtract(img1, img2)\n",
        "   err = np.sum(diff**2)\n",
        "   mse = err/(float(h*w))\n",
        "   return mse, diff\n",
        "\n",
        "lowest = float(\"inf\")\n",
        "diffs = []\n",
        "pred_genre = \"\"\n",
        "correct = 0\n",
        "\n",
        "for row in test_indices:\n",
        "  label = testing_df.loc[row, \"genre\"]\n",
        "  bpm = testing_df.loc[row, \"tempo\"]\n",
        "\n",
        "  for img in pos_genre[row]:\n",
        "    genre = img.split(\"_\")[0]\n",
        "    if genre not in pos_genre[row]:\n",
        "      continue\n",
        "\n",
        "    for images in os.listdir(f'/content/drive/MyDrive/APS360_Group_Project/Combo/{genre}'):\n",
        "\n",
        "      img1 = cv2.imread(f'/content/drive/MyDrive/APS360_Group_Project/Combo/{genre}/{images}')\n",
        "      # load in testing images\n",
        "      img2 = cv2.imread(f'/content/drive/MyDrive/APS360_Group_Project/Combo/{label}/{label}_{row}0.png')\n",
        "\n",
        "      #check if images are loaded successfully\n",
        "      if img1 is None:\n",
        "          continue\n",
        "      if img2 is None:\n",
        "          continue\n",
        "\n",
        "      # convert the images to grayscale\n",
        "      img1 = cv2.cvtColor(img1, cv2.COLOR_BGR2GRAY)\n",
        "      img2 = cv2.cvtColor(img2, cv2.COLOR_BGR2GRAY)\n",
        "\n",
        "      error, diff = mse(img1, img2)\n",
        "\n",
        "      if error < lowest:\n",
        "        lowest = error\n",
        "        pred_genre = img.split(\"_\")[0]\n",
        "\n",
        "    if pred_genre == label:\n",
        "      correct += 1\n",
        "    lowest = float(\"inf\")\n",
        "\n",
        "accuracy = (correct/len(testing_df.index))*100\n",
        "print(f\"Accuracy: {accuracy}%\")"
      ]
    },
    {
      "cell_type": "markdown",
      "metadata": {
        "id": "ze_hgtO0QMeK"
      },
      "source": [
        "## Primary Model"
      ]
    },
    {
      "cell_type": "code",
      "execution_count": 8,
      "metadata": {
        "id": "dApoXzdmQP4U"
      },
      "outputs": [],
      "source": [
        "class CNN(nn.Module):\n",
        "  def __init__(self, input_shape=(500, 500, 3), num_genre=10, hidden_size=50): # num_genre: 10 genres/classes\n",
        "    super(CNN, self).__init__()\n",
        "    self.name = \"CNN Primary Model\"\n",
        "\n",
        "    # kernel_size = 3 -- helps detect low-level features in spectrogram\n",
        "    self.conv1 = nn.Conv2d(in_channels=input_shape[2], out_channels=8, kernel_size=3) # input_channel, output_channel, kernel_size\n",
        "    self.pool = nn.MaxPool2d(kernel_size=(2, 2))\n",
        "    self.conv2 = nn.Conv2d(in_channels=8, out_channels=16, kernel_size=3)\n",
        "\n",
        "    self.conv3 = nn.Conv2d(in_channels=16, out_channels=32, kernel_size=3)\n",
        "    self.conv4 = nn.Conv2d(in_channels=32, out_channels=64, kernel_size=3)\n",
        "\n",
        "    self.rnn = nn.GRU(53824, hidden_size, batch_first=True)\n",
        "    self.fc1 = nn.Linear(hidden_size, 120)\n",
        "    self.dropout = nn.Dropout(0.5)\n",
        "    self.fc2 = nn.Linear(120, 10)\n",
        "\n",
        "  def forward(self, x):\n",
        "    x = self.pool(F.relu(self.conv1(x)))\n",
        "    x = self.pool(F.relu(self.conv2(x)))\n",
        "    x = self.pool(F.relu(self.conv3(x)))\n",
        "    x = self.pool(F.relu(self.conv4(x)))\n",
        "    x = x.view(-1, 53824)\n",
        "    x, _ = self.rnn(x)\n",
        "    x = F.relu(self.fc1(x))\n",
        "    x = self.dropout(x)\n",
        "    x = torch.relu(x)\n",
        "\n",
        "    x = self.fc2(x)\n",
        "    x = x.squeeze(1) # Squeeze the tensor along dimension 1 if its size is 1\n",
        "    return x"
      ]
    },
    {
      "cell_type": "code",
      "execution_count": 9,
      "metadata": {
        "id": "xSvvewMDUT1x"
      },
      "outputs": [],
      "source": [
        "# accuracy function\n",
        "def evaluate(net, loader):\n",
        "    correct = 0\n",
        "    total = 0\n",
        "\n",
        "    for imgs, labels in loader:\n",
        "\n",
        "        output = net(imgs)\n",
        "        #get index with highest prediction\n",
        "        pred = output.argmax(dim=1)\n",
        "        # TESTING\n",
        "        # print(\"predicted:\", labels.view_as(pred))\n",
        "        correct += pred.eq(labels.view_as(pred)).sum().item()\n",
        "        total += imgs.shape[0]\n",
        "    return correct / total"
      ]
    },
    {
      "cell_type": "code",
      "execution_count": 10,
      "metadata": {
        "id": "0Tn5jVRGW9RV"
      },
      "outputs": [],
      "source": [
        "def get_model_name(name, batch_size, learning_rate, epoch):\n",
        "    path = \"model_{0}_bs{1}_lr{2}_epoch{3}\".format(name,\n",
        "                                                   batch_size,\n",
        "                                                   learning_rate,\n",
        "                                                   epoch)\n",
        "    return path"
      ]
    },
    {
      "cell_type": "code",
      "execution_count": 11,
      "metadata": {
        "id": "kxXYxtAkUg0n"
      },
      "outputs": [],
      "source": [
        "# training function\n",
        "def training(net, batch_size=60, learning_rate=0.001, num_epochs=15, weight_decay=0.001):\n",
        "    torch.manual_seed(10)  # Set a fixed random seed for reproducibility\n",
        "\n",
        "    target_classes = ['classical', 'blues', 'country', 'disco', 'hiphop', 'jazz', 'metal', 'pop', 'reggae', 'rock']\n",
        "\n",
        "    train_loader, val_loader, test_loader, classes = get_data_loader(target_classes, batch_size)\n",
        "\n",
        "    model = net\n",
        "    criterion = nn.CrossEntropyLoss()\n",
        "    optimizer = optim.Adam(model.parameters(), lr=learning_rate, weight_decay=weight_decay)\n",
        "\n",
        "    train_accuracy = np.zeros(num_epochs)\n",
        "    val_accuracy = np.zeros(num_epochs)\n",
        "\n",
        "    for epoch in range(num_epochs):\n",
        "        total_train_loss = 0.0\n",
        "        total_train_err = 0.0\n",
        "        total_epoch = 0\n",
        "\n",
        "        # Training loop\n",
        "        for img, label in train_loader:\n",
        "\n",
        "            # add noise\n",
        "            # nf = 0.4\n",
        "            # noisy_img = img + nf * torch.randn(*img.shape)\n",
        "\n",
        "            # noisy_img = torch.clamp(noisy_img, 0., 1.)\n",
        "\n",
        "            optimizer.zero_grad() # zero the parameter gradients\n",
        "            outputs = model(img)\n",
        "\n",
        "            loss = criterion(outputs, label)\n",
        "            loss.backward()\n",
        "            optimizer.step()\n",
        "\n",
        "            _, predicted = torch.max(outputs.data, 1)\n",
        "\n",
        "        # get accuracy\n",
        "        train_accuracy[epoch] = evaluate(model, train_loader)\n",
        "        val_accuracy[epoch] = evaluate(model, val_loader)\n",
        "\n",
        "        print(f\"Epoch {epoch}: Train accuracy: {train_accuracy[epoch]:.4f} | Validation accuracy: {val_accuracy[epoch]:.4f}\")\n",
        "\n",
        "        # Save the current model\n",
        "        model_path = get_model_name(model.name, batch_size, learning_rate, epoch)\n",
        "        torch.save(model.state_dict(), model_path)\n",
        "\n",
        "    print('Finished Training')\n",
        "    np.savetxt(f\"{model_path}_train_accuracy.csv\", train_accuracy)\n",
        "    np.savetxt(f\"{model_path}_val_accuracy.csv\", val_accuracy)"
      ]
    },
    {
      "cell_type": "code",
      "execution_count": 13,
      "metadata": {
        "colab": {
          "base_uri": "https://localhost:8080/"
        },
        "id": "TYWdSEzaXKiT",
        "outputId": "500d467f-2b16-484d-ac74-fc7d485faccc"
      },
      "outputs": [
        {
          "output_type": "stream",
          "name": "stdout",
          "text": [
            "Epoch 0: Train accuracy: 0.1068 | Validation accuracy: 0.1256\n",
            "Epoch 1: Train accuracy: 0.0918 | Validation accuracy: 0.0955\n",
            "Epoch 2: Train accuracy: 0.1152 | Validation accuracy: 0.0854\n",
            "Epoch 3: Train accuracy: 0.1169 | Validation accuracy: 0.0854\n",
            "Epoch 4: Train accuracy: 0.1068 | Validation accuracy: 0.1407\n",
            "Epoch 5: Train accuracy: 0.1002 | Validation accuracy: 0.1206\n",
            "Epoch 6: Train accuracy: 0.1102 | Validation accuracy: 0.0704\n",
            "Epoch 7: Train accuracy: 0.1068 | Validation accuracy: 0.0955\n",
            "Epoch 8: Train accuracy: 0.1285 | Validation accuracy: 0.1106\n",
            "Epoch 9: Train accuracy: 0.1235 | Validation accuracy: 0.1005\n",
            "Epoch 10: Train accuracy: 0.1185 | Validation accuracy: 0.1508\n",
            "Epoch 11: Train accuracy: 0.1386 | Validation accuracy: 0.0955\n",
            "Epoch 12: Train accuracy: 0.1369 | Validation accuracy: 0.1206\n",
            "Epoch 13: Train accuracy: 0.1386 | Validation accuracy: 0.1457\n",
            "Epoch 14: Train accuracy: 0.1486 | Validation accuracy: 0.1709\n",
            "Epoch 15: Train accuracy: 0.1503 | Validation accuracy: 0.1809\n",
            "Epoch 16: Train accuracy: 0.1736 | Validation accuracy: 0.2161\n",
            "Epoch 17: Train accuracy: 0.2053 | Validation accuracy: 0.1910\n",
            "Epoch 18: Train accuracy: 0.2053 | Validation accuracy: 0.2010\n",
            "Epoch 19: Train accuracy: 0.2304 | Validation accuracy: 0.2513\n",
            "Epoch 20: Train accuracy: 0.2571 | Validation accuracy: 0.2312\n",
            "Epoch 21: Train accuracy: 0.2554 | Validation accuracy: 0.2111\n",
            "Epoch 22: Train accuracy: 0.2538 | Validation accuracy: 0.2613\n",
            "Epoch 23: Train accuracy: 0.2988 | Validation accuracy: 0.2915\n",
            "Epoch 24: Train accuracy: 0.2888 | Validation accuracy: 0.2513\n",
            "Epoch 25: Train accuracy: 0.3072 | Validation accuracy: 0.2764\n",
            "Epoch 26: Train accuracy: 0.2771 | Validation accuracy: 0.2462\n",
            "Epoch 27: Train accuracy: 0.2938 | Validation accuracy: 0.2965\n",
            "Epoch 28: Train accuracy: 0.3105 | Validation accuracy: 0.3216\n",
            "Epoch 29: Train accuracy: 0.3205 | Validation accuracy: 0.3065\n",
            "Epoch 30: Train accuracy: 0.3306 | Validation accuracy: 0.2864\n",
            "Epoch 31: Train accuracy: 0.3556 | Validation accuracy: 0.3568\n",
            "Epoch 32: Train accuracy: 0.3155 | Validation accuracy: 0.3518\n",
            "Epoch 33: Train accuracy: 0.3656 | Validation accuracy: 0.3166\n",
            "Epoch 34: Train accuracy: 0.3289 | Validation accuracy: 0.3216\n",
            "Epoch 35: Train accuracy: 0.3656 | Validation accuracy: 0.3568\n",
            "Epoch 36: Train accuracy: 0.3523 | Validation accuracy: 0.3216\n",
            "Epoch 37: Train accuracy: 0.3589 | Validation accuracy: 0.3116\n",
            "Epoch 38: Train accuracy: 0.3773 | Validation accuracy: 0.3216\n",
            "Epoch 39: Train accuracy: 0.3656 | Validation accuracy: 0.3719\n",
            "Epoch 40: Train accuracy: 0.3673 | Validation accuracy: 0.3367\n",
            "Epoch 41: Train accuracy: 0.3506 | Validation accuracy: 0.4070\n",
            "Epoch 42: Train accuracy: 0.4057 | Validation accuracy: 0.3970\n",
            "Epoch 43: Train accuracy: 0.4090 | Validation accuracy: 0.3467\n",
            "Epoch 44: Train accuracy: 0.4124 | Validation accuracy: 0.3568\n",
            "Epoch 45: Train accuracy: 0.3890 | Validation accuracy: 0.3970\n",
            "Epoch 46: Train accuracy: 0.4207 | Validation accuracy: 0.3819\n",
            "Epoch 47: Train accuracy: 0.4157 | Validation accuracy: 0.4020\n",
            "Epoch 48: Train accuracy: 0.3973 | Validation accuracy: 0.4070\n",
            "Epoch 49: Train accuracy: 0.4073 | Validation accuracy: 0.3819\n",
            "Epoch 50: Train accuracy: 0.4324 | Validation accuracy: 0.4271\n",
            "Epoch 51: Train accuracy: 0.4190 | Validation accuracy: 0.3668\n",
            "Epoch 52: Train accuracy: 0.4357 | Validation accuracy: 0.4221\n",
            "Epoch 53: Train accuracy: 0.4240 | Validation accuracy: 0.3920\n",
            "Epoch 54: Train accuracy: 0.4441 | Validation accuracy: 0.4221\n",
            "Epoch 55: Train accuracy: 0.4257 | Validation accuracy: 0.4121\n",
            "Epoch 56: Train accuracy: 0.4207 | Validation accuracy: 0.4422\n",
            "Epoch 57: Train accuracy: 0.4524 | Validation accuracy: 0.4020\n",
            "Epoch 58: Train accuracy: 0.4257 | Validation accuracy: 0.4221\n",
            "Epoch 59: Train accuracy: 0.4608 | Validation accuracy: 0.4372\n",
            "Epoch 60: Train accuracy: 0.4825 | Validation accuracy: 0.4623\n",
            "Epoch 61: Train accuracy: 0.4608 | Validation accuracy: 0.4523\n",
            "Epoch 62: Train accuracy: 0.4558 | Validation accuracy: 0.4221\n",
            "Epoch 63: Train accuracy: 0.4608 | Validation accuracy: 0.4322\n",
            "Epoch 64: Train accuracy: 0.4841 | Validation accuracy: 0.4171\n",
            "Epoch 65: Train accuracy: 0.4391 | Validation accuracy: 0.4472\n",
            "Epoch 66: Train accuracy: 0.4725 | Validation accuracy: 0.4874\n",
            "Epoch 67: Train accuracy: 0.4841 | Validation accuracy: 0.4472\n",
            "Epoch 68: Train accuracy: 0.5109 | Validation accuracy: 0.4774\n",
            "Epoch 69: Train accuracy: 0.4875 | Validation accuracy: 0.4422\n",
            "Epoch 70: Train accuracy: 0.4841 | Validation accuracy: 0.4673\n",
            "Epoch 71: Train accuracy: 0.4925 | Validation accuracy: 0.4472\n",
            "Epoch 72: Train accuracy: 0.5142 | Validation accuracy: 0.4623\n",
            "Epoch 73: Train accuracy: 0.5175 | Validation accuracy: 0.4221\n",
            "Epoch 74: Train accuracy: 0.4975 | Validation accuracy: 0.5025\n",
            "Epoch 75: Train accuracy: 0.5242 | Validation accuracy: 0.4824\n",
            "Epoch 76: Train accuracy: 0.5209 | Validation accuracy: 0.5176\n",
            "Epoch 77: Train accuracy: 0.5476 | Validation accuracy: 0.4925\n",
            "Epoch 78: Train accuracy: 0.5309 | Validation accuracy: 0.4673\n",
            "Epoch 79: Train accuracy: 0.5543 | Validation accuracy: 0.5126\n",
            "Epoch 80: Train accuracy: 0.5392 | Validation accuracy: 0.4824\n",
            "Epoch 81: Train accuracy: 0.5543 | Validation accuracy: 0.5226\n",
            "Epoch 82: Train accuracy: 0.5175 | Validation accuracy: 0.5075\n",
            "Epoch 83: Train accuracy: 0.5609 | Validation accuracy: 0.5075\n",
            "Epoch 84: Train accuracy: 0.5526 | Validation accuracy: 0.4774\n",
            "Epoch 85: Train accuracy: 0.5609 | Validation accuracy: 0.4925\n",
            "Epoch 86: Train accuracy: 0.5543 | Validation accuracy: 0.5276\n",
            "Epoch 87: Train accuracy: 0.5743 | Validation accuracy: 0.5477\n",
            "Epoch 88: Train accuracy: 0.5643 | Validation accuracy: 0.4774\n",
            "Epoch 89: Train accuracy: 0.5977 | Validation accuracy: 0.5126\n",
            "Epoch 90: Train accuracy: 0.5659 | Validation accuracy: 0.4774\n",
            "Epoch 91: Train accuracy: 0.5843 | Validation accuracy: 0.5276\n",
            "Epoch 92: Train accuracy: 0.6060 | Validation accuracy: 0.5678\n",
            "Epoch 93: Train accuracy: 0.6110 | Validation accuracy: 0.5427\n",
            "Epoch 94: Train accuracy: 0.5693 | Validation accuracy: 0.5075\n",
            "Epoch 95: Train accuracy: 0.6060 | Validation accuracy: 0.5678\n",
            "Epoch 96: Train accuracy: 0.6027 | Validation accuracy: 0.4824\n",
            "Epoch 97: Train accuracy: 0.6027 | Validation accuracy: 0.5578\n",
            "Epoch 98: Train accuracy: 0.6060 | Validation accuracy: 0.5327\n",
            "Epoch 99: Train accuracy: 0.6127 | Validation accuracy: 0.5176\n",
            "Epoch 100: Train accuracy: 0.6160 | Validation accuracy: 0.5477\n",
            "Epoch 101: Train accuracy: 0.6294 | Validation accuracy: 0.5427\n",
            "Epoch 102: Train accuracy: 0.6361 | Validation accuracy: 0.5427\n",
            "Epoch 103: Train accuracy: 0.6444 | Validation accuracy: 0.5075\n",
            "Epoch 104: Train accuracy: 0.6494 | Validation accuracy: 0.5226\n",
            "Epoch 105: Train accuracy: 0.6594 | Validation accuracy: 0.5678\n",
            "Epoch 106: Train accuracy: 0.6077 | Validation accuracy: 0.5528\n",
            "Epoch 107: Train accuracy: 0.6477 | Validation accuracy: 0.5477\n",
            "Epoch 108: Train accuracy: 0.6661 | Validation accuracy: 0.5879\n",
            "Epoch 109: Train accuracy: 0.6411 | Validation accuracy: 0.5075\n",
            "Epoch 110: Train accuracy: 0.6511 | Validation accuracy: 0.5930\n",
            "Epoch 111: Train accuracy: 0.6694 | Validation accuracy: 0.5025\n",
            "Epoch 112: Train accuracy: 0.6711 | Validation accuracy: 0.5477\n",
            "Epoch 113: Train accuracy: 0.6861 | Validation accuracy: 0.5276\n",
            "Epoch 114: Train accuracy: 0.6594 | Validation accuracy: 0.5930\n",
            "Epoch 115: Train accuracy: 0.6878 | Validation accuracy: 0.5678\n",
            "Epoch 116: Train accuracy: 0.6978 | Validation accuracy: 0.5427\n",
            "Epoch 117: Train accuracy: 0.6711 | Validation accuracy: 0.5377\n",
            "Epoch 118: Train accuracy: 0.7045 | Validation accuracy: 0.5879\n",
            "Epoch 119: Train accuracy: 0.7028 | Validation accuracy: 0.5628\n",
            "Epoch 120: Train accuracy: 0.6995 | Validation accuracy: 0.5879\n",
            "Epoch 121: Train accuracy: 0.7112 | Validation accuracy: 0.5729\n",
            "Epoch 122: Train accuracy: 0.6895 | Validation accuracy: 0.5126\n",
            "Epoch 123: Train accuracy: 0.7112 | Validation accuracy: 0.5477\n",
            "Epoch 124: Train accuracy: 0.7195 | Validation accuracy: 0.5628\n",
            "Epoch 125: Train accuracy: 0.6811 | Validation accuracy: 0.5578\n",
            "Epoch 126: Train accuracy: 0.7062 | Validation accuracy: 0.5829\n",
            "Epoch 127: Train accuracy: 0.7212 | Validation accuracy: 0.5377\n",
            "Epoch 128: Train accuracy: 0.7062 | Validation accuracy: 0.5427\n",
            "Epoch 129: Train accuracy: 0.6962 | Validation accuracy: 0.5427\n",
            "Epoch 130: Train accuracy: 0.7229 | Validation accuracy: 0.5829\n",
            "Epoch 131: Train accuracy: 0.7295 | Validation accuracy: 0.5377\n",
            "Epoch 132: Train accuracy: 0.7162 | Validation accuracy: 0.5528\n",
            "Epoch 133: Train accuracy: 0.7245 | Validation accuracy: 0.5779\n",
            "Epoch 134: Train accuracy: 0.7295 | Validation accuracy: 0.5276\n",
            "Epoch 135: Train accuracy: 0.7262 | Validation accuracy: 0.5628\n",
            "Epoch 136: Train accuracy: 0.7563 | Validation accuracy: 0.5578\n",
            "Epoch 137: Train accuracy: 0.7462 | Validation accuracy: 0.5427\n",
            "Epoch 138: Train accuracy: 0.7462 | Validation accuracy: 0.5980\n",
            "Epoch 139: Train accuracy: 0.7646 | Validation accuracy: 0.5578\n",
            "Epoch 140: Train accuracy: 0.7295 | Validation accuracy: 0.5779\n",
            "Epoch 141: Train accuracy: 0.7429 | Validation accuracy: 0.5930\n",
            "Epoch 142: Train accuracy: 0.7262 | Validation accuracy: 0.5578\n",
            "Epoch 143: Train accuracy: 0.7596 | Validation accuracy: 0.5729\n",
            "Epoch 144: Train accuracy: 0.7546 | Validation accuracy: 0.5729\n",
            "Epoch 145: Train accuracy: 0.7646 | Validation accuracy: 0.6080\n",
            "Epoch 146: Train accuracy: 0.7780 | Validation accuracy: 0.5930\n",
            "Epoch 147: Train accuracy: 0.7646 | Validation accuracy: 0.5578\n",
            "Epoch 148: Train accuracy: 0.7596 | Validation accuracy: 0.5678\n",
            "Epoch 149: Train accuracy: 0.7679 | Validation accuracy: 0.6181\n",
            "Finished Training\n"
          ]
        }
      ],
      "source": [
        "batch_size = 100\n",
        "learning_rate = 1e-4\n",
        "num_epochs = 150\n",
        "hidden_size = 50\n",
        "\n",
        "# Instantiate your CNN model\n",
        "model = CNN()\n",
        "\n",
        "# Train the model\n",
        "training(model, batch_size=batch_size, learning_rate=learning_rate, num_epochs=num_epochs)"
      ]
    },
    {
      "cell_type": "code",
      "execution_count": 15,
      "metadata": {
        "colab": {
          "base_uri": "https://localhost:8080/",
          "height": 472
        },
        "id": "-nkrGBHeYCWD",
        "outputId": "26ec45a0-fbfa-4ff9-f604-6294fa056dba"
      },
      "outputs": [
        {
          "output_type": "display_data",
          "data": {
            "text/plain": [
              "<Figure size 640x480 with 1 Axes>"
            ],
            "image/png": "[encoded data removed]"
          },
          "metadata": {}
        }
      ],
      "source": [
        "# plotting\n",
        "def plot_training_curve(path):\n",
        "    train_accuracy = np.loadtxt(\"{}_train_accuracy.csv\".format(path))\n",
        "    val_accuracy = np.loadtxt(\"{}_val_accuracy.csv\".format(path))\n",
        "    plt.title(\"Train vs Validation Accuracy\")\n",
        "    n = len(train_accuracy) # number of epochs\n",
        "    plt.plot(range(1,n+1), train_accuracy, label=\"Train\")\n",
        "    plt.plot(range(1,n+1), val_accuracy, label=\"Validation\")\n",
        "    plt.xlabel(\"Epoch\")\n",
        "    plt.ylabel(\"Accuracy\")\n",
        "    plt.legend(loc='best')\n",
        "    plt.show()\n",
        "\n",
        "\n",
        "plot_training_curve(\"model_CNN Primary Model_bs100_lr0.0001_epoch149\")"
      ]
    },
    {
      "cell_type": "code",
      "execution_count": 341,
      "metadata": {
        "colab": {
          "base_uri": "https://localhost:8080/"
        },
        "id": "IYP48ty9j0Ea",
        "outputId": "4f1faa96-6c2e-4ff9-feaf-00e57aa5937d"
      },
      "outputs": [
        {
          "output_type": "stream",
          "name": "stdout",
          "text": [
            "Test accuracy: 0.7960199004975125\n"
          ]
        }
      ],
      "source": [
        "target_classes = ['classical', 'blues', 'country', 'disco', 'hiphop', 'jazz', 'metal', 'pop', 'reggae', 'rock']\n",
        "train_loader, val_loader, test_loader, classes = get_data_loader(target_classes, batch_size=60)\n",
        "print(\"Test accuracy:\", evaluate(model, test_loader))"
      ]
    },
    {
      "cell_type": "markdown",
      "metadata": {
        "id": "7-tsvdiVwXeL"
      },
      "source": [
        "# **User Input**"
      ]
    },
    {
      "cell_type": "code",
      "execution_count": 114,
      "metadata": {
        "id": "QfF5rrX9N8O0"
      },
      "outputs": [],
      "source": [
        "def graph_combo_input(df: pd.DataFrame):\n",
        "    for index, row in tqdm(df.iterrows(), total=len(df), desc='Processing'):\n",
        "        genre = row['genre']\n",
        "        y = row['y']  # audio waveform\n",
        "        sr = row['sr']  # sampling rate\n",
        "        D = np.abs(librosa.stft(y))\n",
        "\n",
        "        onset_env = librosa.onset.onset_strength(y=y, sr=sr)\n",
        "\n",
        "        tempogram = librosa.feature.tempogram(onset_envelope=onset_env, sr=sr)\n",
        "\n",
        "        fig, ax = plt.subplots(2,1,figsize=(5,5),sharex=True,sharey=False)\n",
        "        plt.subplot(211)\n",
        "        plt.subplots_adjust(hspace = 0.5)\n",
        "        librosa.display.specshow(tempogram, sr=sr, x_axis='time', hop_length=512)\n",
        "        plt.colorbar()\n",
        "        plt.title(f'Tempogram for genre')\n",
        "        plt.tight_layout()\n",
        "\n",
        "        plt.subplot(212)\n",
        "        librosa.display.specshow(librosa.amplitude_to_db(D, ref=np.max), sr=sr, x_axis='time', y_axis='log')\n",
        "        plt.colorbar(format='%+2.0f dB')\n",
        "        plt.title(f'Spectrogram for genre')\n",
        "        plt.tight_layout()\n",
        "\n",
        "        # manage directory for saving\n",
        "        base_dir = '/content/drive/MyDrive/APS360_Group_Project/input'\n",
        "        os.makedirs(base_dir, exist_ok=True)\n",
        "        save_path = os.path.join(base_dir, \"images\")\n",
        "        os.makedirs(save_path, exist_ok=True)  # Ensure directory exists\n",
        "\n",
        "        # save the plot\n",
        "        plt.savefig(os.path.join(save_path, f'input{index}.png'))\n",
        "\n",
        "        plt.close()\n",
        "\n",
        "from torch.utils.data import DataLoader, SubsetRandomSampler\n",
        "def get_data_loader_input(target_classes, batch_size):\n",
        "  # Specify path to your dataset folder in Google Drive\n",
        "  data_dir_combo = '/content/drive/MyDrive/APS360_Group_Project/input'\n",
        "\n",
        "  # normalize images\n",
        "  transform = transforms.Compose([transforms.ToTensor(),\n",
        "                                  transforms.Normalize((0.5, 0.5, 0.5), (0.5, 0.5, 0.5))])\n",
        "\n",
        "  # Create dataset instance\n",
        "\n",
        "  dataset_combo = datasets.ImageFolder(root=data_dir_combo, transform=transform)\n",
        "\n",
        "  trial_loader = DataLoader(dataset_combo, batch_size=batch_size)\n",
        "\n",
        "  return trial_loader, target_classes\n"
      ]
    },
    {
      "cell_type": "code",
      "execution_count": 115,
      "metadata": {
        "id": "itFUaEG2Pw1p"
      },
      "outputs": [],
      "source": [
        "def run_prediction(file_path, target_classes, batch_size):\n",
        "    processed = process_dataset(file_path=file_path, genre_files=False)\n",
        "    features = extract_tempo_and_beats(processed)\n",
        "    df = features_to_dataframe(features)\n",
        "\n",
        "    graph_combo_input(df)\n",
        "\n",
        "    trial_loader, target_classes = get_data_loader_input(target_classes, batch_size=batch_size)\n",
        "\n",
        "    for imgs, labels in trial_loader:\n",
        "        output = model(imgs)\n",
        "        pred = output.argmax(dim=1)\n",
        "\n",
        "        genre_mapping = {0: 'classical', 1: 'blues', 2: 'country', 3: 'disco', 4:'hiphop', 5:'jazz', 6:'metal', 7:'pop', 8:'reggae', 9:'rock'}\n",
        "\n",
        "        for elem in pred:\n",
        "            predicted_genre = genre_mapping.get(elem.item(), 'Unknown Genre')\n",
        "            print(\"\\n\", predicted_genre)\n"
      ]
    },
    {
      "cell_type": "code",
      "execution_count": 288,
      "metadata": {
        "colab": {
          "base_uri": "https://localhost:8080/",
          "height": 67,
          "referenced_widgets": [
            "b5fbaa946dae4226b8f27529acb465db",
            "283ca1e05ae448c8add3d24aad2320ad",
            "b242cb72cd4744388acdcc78a1c19286"
          ]
        },
        "id": "_Mc09Vy6BlH4",
        "outputId": "0972f393-af6e-4d93-f0cc-0c0d57721210"
      },
      "outputs": [
        {
          "output_type": "display_data",
          "data": {
            "text/plain": [
              "FileUpload(value={}, accept='.wav,.mp3', description='Upload')"
            ],
            "application/vnd.jupyter.widget-view+json": {
              "version_major": 2,
              "version_minor": 0,
              "model_id": "b5fbaa946dae4226b8f27529acb465db"
            }
          },
          "metadata": {}
        },
        {
          "output_type": "stream",
          "name": "stdout",
          "text": [
            "File \"CaliforniaGurls - 15 sec.wav\" has been saved to \"/content/uploaded_files/CaliforniaGurls - 15 sec.wav\".\n"
          ]
        }
      ],
      "source": [
        "import ipywidgets as widgets\n",
        "from IPython.display import display\n",
        "import shutil\n",
        "import os\n",
        "\n",
        "# Create an upload widget\n",
        "upload = widgets.FileUpload(accept='.wav,.mp3', multiple=False)\n",
        "\n",
        "# Directory to store the uploaded file\n",
        "upload_dir = '/content/uploaded_files'\n",
        "os.makedirs(upload_dir, exist_ok=True)\n",
        "\n",
        "def on_upload_change(change):\n",
        "    global input_file_path\n",
        "    uploaded_file = list(upload.value.values())[0]\n",
        "    file_name = uploaded_file['metadata']['name']\n",
        "    content = uploaded_file['content']\n",
        "\n",
        "    # Save the file to the specified directory\n",
        "    input_file_path = os.path.join(upload_dir, file_name)\n",
        "    with open(input_file_path, 'wb') as f:\n",
        "        f.write(content)\n",
        "\n",
        "    print(f'File \"{file_name}\" has been saved to \"{input_file_path}\".')\n",
        "\n",
        "upload.observe(on_upload_change, names='value')\n",
        "display(upload)"
      ]
    },
    {
      "cell_type": "code",
      "execution_count": 289,
      "metadata": {
        "colab": {
          "base_uri": "https://localhost:8080/"
        },
        "id": "7HY48qgFhQ3O",
        "outputId": "3ceab4d0-ad5a-4147-925c-3d6cce30262e",
        "collapsed": true
      },
      "outputs": [
        {
          "output_type": "stream",
          "name": "stdout",
          "text": [
            "/content/uploaded_files/CaliforniaGurls - 15 sec.wav\n"
          ]
        }
      ],
      "source": [
        "print(input_file_path)"
      ]
    },
    {
      "cell_type": "code",
      "execution_count": 290,
      "metadata": {
        "colab": {
          "base_uri": "https://localhost:8080/"
        },
        "id": "yA8qCpx2xgW8",
        "outputId": "a57df7ce-5f4b-41a2-e934-490b9c28930f",
        "collapsed": true
      },
      "outputs": [
        {
          "output_type": "stream",
          "name": "stderr",
          "text": [
            "Processing: 100%|██████████| 1/1 [00:01<00:00,  1.22s/it]"
          ]
        },
        {
          "output_type": "stream",
          "name": "stdout",
          "text": [
            "\n",
            " pop\n"
          ]
        },
        {
          "output_type": "stream",
          "name": "stderr",
          "text": [
            "\n"
          ]
        }
      ],
      "source": [
        "file_path = input_file_path\n",
        "run_prediction(file_path=file_path, target_classes=target_classes, batch_size=1)"
      ]
    }
  ],
  "metadata": {
    "accelerator": "GPU",
    "colab": {
      "collapsed_sections": [
        "UIoawEsMPnk-"
      ],
      "gpuType": "T4",
      "machine_shape": "hm",
      "provenance": []
    },
    "kernelspec": {
      "display_name": "Python 3",
      "name": "python3"
    },
    "language_info": {
      "name": "python"
    },
    "widgets": {
      "application/vnd.jupyter.widget-state+json": {
        "b5fbaa946dae4226b8f27529acb465db": {
          "model_module": "@jupyter-widgets/controls",
          "model_name": "FileUploadModel",
          "model_module_version": "1.5.0",
          "state": {
            "_counter": 1,
            "_dom_classes": [],
            "_model_module": "@jupyter-widgets/controls",
            "_model_module_version": "1.5.0",
            "_model_name": "FileUploadModel",
            "_view_count": null,
            "_view_module": "@jupyter-widgets/controls",
            "_view_module_version": "1.5.0",
            "_view_name": "FileUploadView",
            "accept": ".wav,.mp3",
            "button_style": "",
            "data": [
              null
            ],
            "description": "Upload",
            "description_tooltip": null,
            "disabled": false,
            "error": "",
            "icon": "upload",
            "layout": "IPY_MODEL_283ca1e05ae448c8add3d24aad2320ad",
            "metadata": [
              {
                "name": "CaliforniaGurls - 15 sec.wav",
                "type": "audio/wav",
                "size": 2884686,
                "lastModified": 1723519998000
              }
            ],
            "multiple": false,
            "style": "IPY_MODEL_b242cb72cd4744388acdcc78a1c19286"
          }
        },
        "283ca1e05ae448c8add3d24aad2320ad": {
          "model_module": "@jupyter-widgets/base",
          "model_name": "LayoutModel",
          "model_module_version": "1.2.0",
          "state": {
            "_model_module": "@jupyter-widgets/base",
            "_model_module_version": "1.2.0",
            "_model_name": "LayoutModel",
            "_view_count": null,
            "_view_module": "@jupyter-widgets/base",
            "_view_module_version": "1.2.0",
            "_view_name": "LayoutView",
            "align_content": null,
            "align_items": null,
            "align_self": null,
            "border": null,
            "bottom": null,
            "display": null,
            "flex": null,
            "flex_flow": null,
            "grid_area": null,
            "grid_auto_columns": null,
            "grid_auto_flow": null,
            "grid_auto_rows": null,
            "grid_column": null,
            "grid_gap": null,
            "grid_row": null,
            "grid_template_areas": null,
            "grid_template_columns": null,
            "grid_template_rows": null,
            "height": null,
            "justify_content": null,
            "justify_items": null,
            "left": null,
            "margin": null,
            "max_height": null,
            "max_width": null,
            "min_height": null,
            "min_width": null,
            "object_fit": null,
            "object_position": null,
            "order": null,
            "overflow": null,
            "overflow_x": null,
            "overflow_y": null,
            "padding": null,
            "right": null,
            "top": null,
            "visibility": null,
            "width": null
          }
        },
        "b242cb72cd4744388acdcc78a1c19286": {
          "model_module": "@jupyter-widgets/controls",
          "model_name": "ButtonStyleModel",
          "model_module_version": "1.5.0",
          "state": {
            "_model_module": "@jupyter-widgets/controls",
            "_model_module_version": "1.5.0",
            "_model_name": "ButtonStyleModel",
            "_view_count": null,
            "_view_module": "@jupyter-widgets/base",
            "_view_module_version": "1.2.0",
            "_view_name": "StyleView",
            "button_color": null,
            "font_weight": ""
          }
        }
      }
    }
  },
  "nbformat": 4,
  "nbformat_minor": 0
}